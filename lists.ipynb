{
 "cells": [
  {
   "cell_type": "code",
   "execution_count": 1,
   "id": "dec56393",
   "metadata": {},
   "outputs": [
    {
     "name": "stdout",
     "output_type": "stream",
     "text": [
      "Hello World!\n"
     ]
    }
   ],
   "source": [
    "print(\"Hello World!\")"
   ]
  },
  {
   "cell_type": "code",
   "execution_count": 2,
   "id": "3ac3251c",
   "metadata": {},
   "outputs": [
    {
     "name": "stdout",
     "output_type": "stream",
     "text": [
      "jacob\n"
     ]
    }
   ],
   "source": [
    "usernames = [ \"john\",\"jacob\",\"jingle\",\"hymer\",\"scheitt\",\"jill\"]\n",
    "print(usernames[1])"
   ]
  },
  {
   "cell_type": "code",
   "execution_count": 4,
   "id": "9e3dc168",
   "metadata": {},
   "outputs": [
    {
     "name": "stdout",
     "output_type": "stream",
     "text": [
      "john\n",
      "jacob\n",
      "jingle\n",
      "hymer\n",
      "schmitt\n"
     ]
    }
   ],
   "source": [
    "username1 = \"john\"\n",
    "username2 = \"jacob\"\n",
    "username3 = \"jingle\"\n",
    "username4 = \"hymer\"\n",
    "username5 = \"schmitt\"\n",
    "\n",
    "print(username1)\n",
    "print(username2)\n",
    "print(username3)\n",
    "print(username4)\n",
    "print(username5)"
   ]
  },
  {
   "cell_type": "code",
   "execution_count": 3,
   "id": "eac1ad0f",
   "metadata": {},
   "outputs": [
    {
     "name": "stdout",
     "output_type": "stream",
     "text": [
      "username1\n",
      "username2\n",
      "username3\n",
      "username4\n",
      "username5\n"
     ]
    }
   ],
   "source": [
    "username1 = \"john\"\n",
    "username2 = \"jacob\"\n",
    "username3 = \"jingle\"\n",
    "username4 = \"hymer\"\n",
    "username5 = \"schmitt\"\n",
    "\n",
    "for i in range(1,6):\n",
    "    print(f\"username{i}\")\n"
   ]
  },
  {
   "cell_type": "code",
   "execution_count": 5,
   "id": "e635d936",
   "metadata": {},
   "outputs": [
    {
     "name": "stdout",
     "output_type": "stream",
     "text": [
      "john\n",
      "jacob\n",
      "jingle\n",
      "hymer\n",
      "schmitt\n",
      "username1\n",
      "username2\n",
      "username3\n",
      "username4\n",
      "username5\n"
     ]
    }
   ],
   "source": [
    "username1 = \"john\"\n",
    "username2 = \"jacob\"\n",
    "username3 = \"jingle\"\n",
    "username4 = \"hymer\"\n",
    "username5 = \"schmitt\"\n",
    "\n",
    "print(username1)\n",
    "print(username2)\n",
    "print(username3)\n",
    "print(username4)\n",
    "print(username5)\n",
    "\n",
    "for i in range(1,6):\n",
    "    print(f\"username{i}\")"
   ]
  },
  {
   "cell_type": "code",
   "execution_count": 5,
   "id": "9d7031de",
   "metadata": {},
   "outputs": [
    {
     "name": "stdout",
     "output_type": "stream",
     "text": [
      "john\n",
      "jacob\n",
      "jingle\n",
      "hymer\n",
      "schmitt\n",
      "john\n",
      "jacob\n",
      "jingle\n",
      "hymer\n",
      "schmitt\n"
     ]
    }
   ],
   "source": [
    "username1 = \"john\"\n",
    "username2 = \"jacob\"\n",
    "username3 = \"jingle\"\n",
    "username4 = \"hymer\"\n",
    "username5 = \"schmitt\"\n",
    "\n",
    "print(username1)\n",
    "print(username2)\n",
    "print(username3)\n",
    "print(username4)\n",
    "print(username5)\n",
    "\n",
    "for i in range(1,6):\n",
    "    print(eval(f\"username{i}\"))\n",
    "\n"
   ]
  },
  {
   "cell_type": "code",
   "execution_count": 7,
   "id": "5c3d390d",
   "metadata": {},
   "outputs": [
    {
     "name": "stdout",
     "output_type": "stream",
     "text": [
      "username1\n",
      "Alice\n"
     ]
    }
   ],
   "source": [
    "#나의 정리\n",
    "username1 = \"Alice\"\n",
    "username2 = \"Bob\"\n",
    "\n",
    "name = \"username1\"      # 문자열, 즉 \"변수 이름\"일 뿐임\n",
    "print(name)              # 출력: username1\n",
    "print(eval(name))        # 출력: Alice  변수의 변수의 값을 가져오는 개념"
   ]
  },
  {
   "cell_type": "code",
   "execution_count": null,
   "id": "d1f49153",
   "metadata": {},
   "outputs": [
    {
     "data": {
      "text/plain": [
       "\"print ('hello world')\""
      ]
     },
     "execution_count": 11,
     "metadata": {},
     "output_type": "execute_result"
    }
   ],
   "source": [
    "\"print ('hello world')\" # \"print( 'hello world')\"는 그냥 문자열, \"\"안에 내용은 코드처럼 보이지만 아니라 텍스트!!\n",
    "\n",
    "# eval(\"print ('hello world')\")"
   ]
  },
  {
   "cell_type": "code",
   "execution_count": null,
   "id": "5ffb7975",
   "metadata": {},
   "outputs": [
    {
     "name": "stdout",
     "output_type": "stream",
     "text": [
      "hello world\n"
     ]
    }
   ],
   "source": [
    "# \"print ('hello world')\"\n",
    "\n",
    "eval(\"print ('hello world')\")  # eval()은 괄호안의 문자열을 실제 파이썬 코드처럼 실행-즉 \"print('hello world')\" 라는 문자열을 print('hello world')코드로 바꿔서 실행한거\n",
    "\n",
    "# does work... but a BIG security hole- 동작실행가능 유연하지만 보안취약점이 있다 예시로 악성코드가 시스템 명령을 실행할수 있어서 \n",
    "# 예시 eval(\"p\" + \"rint\"+ \"('he\" + \"llo')\")"
   ]
  },
  {
   "cell_type": "code",
   "execution_count": 1,
   "id": "fffdf63a",
   "metadata": {},
   "outputs": [
    {
     "name": "stdout",
     "output_type": "stream",
     "text": [
      "['john', 'jacob', 'jingle', 'hymer', 'scheitt', 'jill']\n",
      "john\n",
      "jacob\n",
      "jingle\n",
      "hymer\n",
      "scheitt\n",
      "jill\n"
     ]
    }
   ],
   "source": [
    "# basic \n",
    "usernames = [ \"john\",\"jacob\",\"jingle\",\"hymer\",\"scheitt\",\"jill\"]\n",
    "print(usernames)\n",
    "\n",
    "# for i in range(1,7):  # 영역이 잘못됨, 리스트에서 영역 0~4임, index값을 가짐0부터, 그러나 range는 1~5를 나타냄\n",
    "#    print(usernames[i])\n",
    "\n",
    "# \"5\" is a \"magic number\"\n",
    "for i in range(6):\n",
    "    print(usernames[i])"
   ]
  },
  {
   "cell_type": "code",
   "execution_count": 19,
   "id": "5e28d3cb",
   "metadata": {},
   "outputs": [
    {
     "data": {
      "text/plain": [
       "7"
      ]
     },
     "execution_count": 19,
     "metadata": {},
     "output_type": "execute_result"
    }
   ],
   "source": [
    "# how many items are in the list?\n",
    "usernames = [ \"john\",\"jacob\",\"jingle\",\"hymer\",\"scheitt\",\"jill\",\"joe\"]\n",
    "len(usernames)"
   ]
  },
  {
   "cell_type": "code",
   "execution_count": null,
   "id": "6cf750f4",
   "metadata": {},
   "outputs": [
    {
     "name": "stdout",
     "output_type": "stream",
     "text": [
      "john\n",
      "jacob\n",
      "jingle\n",
      "hymer\n",
      "scheitt\n",
      "jill\n",
      "john\n",
      "jacob\n",
      "jingle\n",
      "hymer\n",
      "scheitt\n",
      "jill\n"
     ]
    }
   ],
   "source": [
    "# iterating through list\n",
    "usernames = [ \"john\",\"jacob\",\"jingle\",\"hymer\",\"scheitt\",\"jill\"]\n",
    "\n",
    "# one way\n",
    "for i in range(len(usernames)):   # 좀더 효율적으로 하는 방법 설명전\n",
    "    print(usernames[i])\n",
    "\n",
    "for username in usernames:        # 좀 더 쉽고 효율적, a list specific way shorter and easier to read/use\n",
    "    print(username)"
   ]
  },
  {
   "cell_type": "code",
   "execution_count": 23,
   "id": "876ae4b3",
   "metadata": {},
   "outputs": [
    {
     "name": "stdout",
     "output_type": "stream",
     "text": [
      "john\n",
      "jacob\n",
      "jingle\n",
      "hymer\n",
      "scheitt\n",
      "jill\n"
     ]
    }
   ],
   "source": [
    "usernames = [ \"john\",\"jacob\",\"jingle\",\"hymer\",\"scheitt\",\"jill\"]\n",
    "\n",
    "i = 0\n",
    "while (i < len(usernames)):\n",
    "    print(usernames[i])\n",
    "    i += 1"
   ]
  },
  {
   "cell_type": "code",
   "execution_count": 27,
   "id": "ed93ae69",
   "metadata": {},
   "outputs": [
    {
     "name": "stdout",
     "output_type": "stream",
     "text": [
      "0\n",
      "1\n",
      "2\n",
      "3\n",
      "4\n",
      "5\n",
      "0\n",
      "1\n",
      "2\n",
      "3\n",
      "4\n",
      "5\n",
      "0\n",
      "1\n",
      "2\n",
      "3\n",
      "4\n",
      "5\n"
     ]
    }
   ],
   "source": [
    "# 모니카 질문- for 문 안에서 어떻게 i가 range의 값들과 연될되는 \n",
    "# 선생님 설명 예시\n",
    "for i in range(6):\n",
    "    print(i)\n",
    "\n",
    "numbers = [ 0,1,2,3,4,5]\n",
    "for i in numbers:\n",
    "    print(i)\n",
    "\n",
    "for number in numbers:\n",
    "    print(number)\n",
    "\n",
    "# range(n)은 0부터 n-1까지의 연속된 숫자 생성, for i in range(n)은 range에서 숫자를 하나씩 꺼내서 i에 담고 반복,\n",
    "# [0,1,2,3,4,5] range(6)와 같은 결과(단, 리스트는 메모리에 실제로 저장됨), 둘다 0에서 5까지 순서대로 반복함"
   ]
  },
  {
   "cell_type": "code",
   "execution_count": null,
   "id": "d44da078",
   "metadata": {},
   "outputs": [
    {
     "name": "stdout",
     "output_type": "stream",
     "text": [
      "12\n",
      "56\n",
      "27\n",
      "78\n",
      "42\n",
      "59\n"
     ]
    }
   ],
   "source": [
    "grades = [12,56,27,78,42,59]\n",
    "for grade in grades:    # for grade in range grades: 라고 쓰지 않기 range의  의미는 이미 포함되어있어서\n",
    "    print(grade)\n"
   ]
  },
  {
   "cell_type": "code",
   "execution_count": null,
   "id": "d4a6d022",
   "metadata": {},
   "outputs": [
    {
     "name": "stdout",
     "output_type": "stream",
     "text": [
      "12\n",
      "56\n",
      "27\n",
      "78\n",
      "42\n",
      "59\n"
     ]
    }
   ],
   "source": [
    "grades = [\"12\",\"56\",\"27\",\"78\",\"42\",\"59\"]\n",
    "for grade in grades:    \n",
    "    print(grade)             #list에서 \"\"로 문자열로 되어있지만 숫자처럼 사용가능\n",
    " "
   ]
  },
  {
   "cell_type": "code",
   "execution_count": 34,
   "id": "2c7226df",
   "metadata": {},
   "outputs": [
    {
     "data": {
      "text/plain": [
       "[2, 2.21, 'number', True, True, [1, 2, 3]]"
      ]
     },
     "execution_count": 34,
     "metadata": {},
     "output_type": "execute_result"
    }
   ],
   "source": [
    "# a list can consist of anything\n",
    "items = [2, 2.21, \"number\", True, 1 < 4, [1,2,3]]\n",
    "items"
   ]
  },
  {
   "cell_type": "code",
   "execution_count": null,
   "id": "5df09456",
   "metadata": {},
   "outputs": [
    {
     "name": "stdout",
     "output_type": "stream",
     "text": [
      "['34', '12', '56', '78', '100', '0', '0', '0', '0', '0', 0]\n"
     ]
    }
   ],
   "source": [
    "# what if I don't know what the items are? 입력을 계속 받아 리스트에 저장하는 프로그램\n",
    "data = [0,0,0,0,0,0,0,0,0,0,0]\n",
    "i = 0\n",
    "while True:\n",
    "    user_input = input(\"Enter a number: \")\n",
    "    if user_input == \"\":\n",
    "        break\n",
    "    data[i] = user_input\n",
    "    i += 1\n",
    "\n",
    "print(data)"
   ]
  },
  {
   "cell_type": "code",
   "execution_count": 40,
   "id": "b575494e",
   "metadata": {},
   "outputs": [
    {
     "ename": "IndexError",
     "evalue": "list assignment index out of range",
     "output_type": "error",
     "traceback": [
      "\u001b[31m---------------------------------------------------------------------------\u001b[39m",
      "\u001b[31mIndexError\u001b[39m                                Traceback (most recent call last)",
      "\u001b[36mCell\u001b[39m\u001b[36m \u001b[39m\u001b[32mIn[40]\u001b[39m\u001b[32m, line 7\u001b[39m\n\u001b[32m      5\u001b[39m     \u001b[38;5;28;01mif\u001b[39;00m user_input == \u001b[33m\"\u001b[39m\u001b[33m\"\u001b[39m:\n\u001b[32m      6\u001b[39m         \u001b[38;5;28;01mbreak\u001b[39;00m\n\u001b[32m----> \u001b[39m\u001b[32m7\u001b[39m     \u001b[43mdata\u001b[49m\u001b[43m[\u001b[49m\u001b[43mi\u001b[49m\u001b[43m]\u001b[49m = user_input\n\u001b[32m      8\u001b[39m     i += \u001b[32m1\u001b[39m\n\u001b[32m     10\u001b[39m \u001b[38;5;28mprint\u001b[39m(data)\n",
      "\u001b[31mIndexError\u001b[39m: list assignment index out of range"
     ]
    }
   ],
   "source": [
    "data = [0,0,0,0,0]    # 만약에 5자리밖에 없는데 6개를 입력하면 오류가 남\n",
    "i = 0\n",
    "while True:\n",
    "    user_input = input(\"Enter a number: \")\n",
    "    if user_input == \"\":\n",
    "        break\n",
    "    data[i] = user_input\n",
    "    i += 1\n",
    "\n",
    "print(data)"
   ]
  },
  {
   "cell_type": "code",
   "execution_count": null,
   "id": "6dc32f80",
   "metadata": {},
   "outputs": [
    {
     "name": "stdout",
     "output_type": "stream",
     "text": [
      "['1', '2', '3', '4', '5']\n"
     ]
    }
   ],
   "source": [
    "data = [0,0,0,0,0]    # 만약에 5자리밖에 없는데 6개를 입력하면 오류가 남\n",
    "i = 0\n",
    "while True:\n",
    "    user_input = input(\"Enter a number: \")\n",
    "    if user_input == \"\":\n",
    "        break\n",
    "    data[i] = user_input\n",
    "    i += 1\n",
    "    if i >= 5:\n",
    "        break      # brak를 걸어준다\n",
    "\n",
    "print(data)"
   ]
  },
  {
   "cell_type": "code",
   "execution_count": null,
   "id": "fed4d915",
   "metadata": {},
   "outputs": [
    {
     "name": "stdout",
     "output_type": "stream",
     "text": [
      "['1', '2', '3', '4', '5', 0, 0, 0, 0, 0, 0, 0, 0, 0, 0, 0, 0, 0, 0, 0, 0, 0, 0, 0, 0, 0, 0, 0, 0, 0, 0, 0, 0, 0, 0, 0, 0, 0, 0, 0, 0, 0, 0, 0, 0, 0, 0, 0, 0, 0, 0, 0, 0, 0, 0, 0, 0, 0, 0, 0, 0, 0, 0, 0, 0, 0, 0, 0, 0, 0, 0, 0, 0, 0, 0, 0, 0, 0, 0, 0, 0, 0, 0, 0, 0, 0, 0, 0, 0, 0, 0, 0, 0, 0, 0, 0, 0, 0, 0, 0]\n"
     ]
    }
   ],
   "source": [
    "\n",
    "data = [0] * 100  # 복제연산자 사용 케이스\n",
    "i = 0\n",
    "while True:\n",
    "    user_input = input(\"Enter a number: \")\n",
    "    if user_input == \"\":\n",
    "        break\n",
    "    data[i] = user_input\n",
    "    i += 1\n",
    "    if i >=len(data):\n",
    "        break    \n",
    "\n",
    "print(data)\n",
    "\n"
   ]
  },
  {
   "cell_type": "code",
   "execution_count": 44,
   "id": "1c5f279b",
   "metadata": {},
   "outputs": [
    {
     "data": {
      "text/plain": [
       "[0, 0, 0, 0, 0, 0, 0, 0, 0, 0]"
      ]
     },
     "execution_count": 44,
     "metadata": {},
     "output_type": "execute_result"
    }
   ],
   "source": [
    "# creat a list of known size, but not known values\n",
    "data = [0] * 10\n",
    "data"
   ]
  },
  {
   "cell_type": "code",
   "execution_count": 6,
   "id": "ccadee28",
   "metadata": {},
   "outputs": [
    {
     "data": {
      "text/plain": [
       "[1, 2, 3, 4, 5, 6, 7, 8, 9, 10]"
      ]
     },
     "execution_count": 6,
     "metadata": {},
     "output_type": "execute_result"
    }
   ],
   "source": [
    "# code a list with the values  1 through 10\n",
    "values = [0] * 10   # 0이 10개 들어있는 리스트생성\n",
    "for i in range(1, 11):   # 1부터 10까지 반복\n",
    "    values[i-1]= i       # i번째 숫자를 리스트의 (i-1) 위치에 저장\n",
    "values"
   ]
  },
  {
   "cell_type": "code",
   "execution_count": 47,
   "id": "edb6d8a2",
   "metadata": {},
   "outputs": [
    {
     "data": {
      "text/plain": [
       "[1, 2, 3, 4, 5, 6, 7, 8, 9, 10]"
      ]
     },
     "execution_count": 47,
     "metadata": {},
     "output_type": "execute_result"
    }
   ],
   "source": [
    "# 위에 식을 좀더 간결히\n",
    "values = list(range(1,11))\n",
    "values"
   ]
  },
  {
   "cell_type": "code",
   "execution_count": 48,
   "id": "81d85318",
   "metadata": {},
   "outputs": [
    {
     "data": {
      "text/plain": [
       "[2, 4, 6, 8, 10, 12, 14, 16, 18, 20]"
      ]
     },
     "execution_count": 48,
     "metadata": {},
     "output_type": "execute_result"
    }
   ],
   "source": [
    "# creat a list with the values 2 through 20 by 2s\n",
    "values = list(range(2,21,2))\n",
    "values"
   ]
  },
  {
   "cell_type": "code",
   "execution_count": null,
   "id": "6b7a29d4",
   "metadata": {},
   "outputs": [
    {
     "data": {
      "text/plain": [
       "['first', 'second', 4, 3, 2, 1, 0]"
      ]
     },
     "execution_count": 53,
     "metadata": {},
     "output_type": "execute_result"
    }
   ],
   "source": [
    "# fill an empty list\n",
    "empty =[]    # 빈 리스트 생성\n",
    "for i in range(5):   # 0부터 4까지 반복\n",
    "    empty.insert(0,i) #각 i값을 리스트 맨 앞(0번째)에 삽입(차례대로들어오면서 뒤로밀림)- 그래서 숫자가 거꾸로 나옴 -특정자리에 넣어라: insert\n",
    "empty.insert(0, \"first\")  # 'first'를 맨 앞에 삽입\n",
    "empty.insert(1, \"second\") #'second'를 인덱스 1에 위치에 삽입\n",
    "empty"
   ]
  },
  {
   "cell_type": "code",
   "execution_count": null,
   "id": "0cc69692",
   "metadata": {},
   "outputs": [
    {
     "data": {
      "text/plain": [
       "['first', 'second', 'third']"
      ]
     },
     "execution_count": 54,
     "metadata": {},
     "output_type": "execute_result"
    }
   ],
   "source": [
    "# append to a list - 리스트에 값을 순서대로 추가하는 방법 끝에 추가함\n",
    "empty =[]\n",
    "empty.append(\"first\")\n",
    "empty.append(\"second\")\n",
    "empty.append(\"third\")\n",
    "empty"
   ]
  },
  {
   "cell_type": "code",
   "execution_count": 3,
   "id": "669e000a",
   "metadata": {},
   "outputs": [
    {
     "data": {
      "text/plain": [
       "['apple', 'banana', 'blueberry']"
      ]
     },
     "execution_count": 3,
     "metadata": {},
     "output_type": "execute_result"
    }
   ],
   "source": [
    "# remove from list\n",
    "fruit = [\"apple\", \"banana\", \"tomato\",\"blueberry\"]\n",
    "# del fruit[2]\n",
    "fruit.remove(\"tomato\")\n",
    "fruit"
   ]
  },
  {
   "cell_type": "code",
   "execution_count": null,
   "id": "02e79b63",
   "metadata": {},
   "outputs": [
    {
     "data": {
      "text/plain": [
       "['apple', 'banana', 'tomato']"
      ]
     },
     "execution_count": 5,
     "metadata": {},
     "output_type": "execute_result"
    }
   ],
   "source": [
    "# remove from list\n",
    "fruit = [\"apple\", \"banana\", \"tomato\",\"blueberry\"]\n",
    "# del fruit[2]\n",
    "# fruit.remove(\"tomato\")\n",
    "fruit.pop() # removes from end of list - 인덱스를 지정하지 않으면 기본적으로 마지막항목 여기서는 블루베리가 삭제됨\n",
    "fruit #- 여기서 fruit가 한번 더 붙는 이유는 위에 코드가 명령이기에 명령다음 프린트의 의미로 붙음"
   ]
  },
  {
   "cell_type": "code",
   "execution_count": null,
   "id": "5f0fdae4",
   "metadata": {},
   "outputs": [],
   "source": [
    "# slicing a list- 리스트의 일부만 선택하거나 결합해서 새로운 리스틀르 만드는 방법\n",
    "fruit = [\"apple\", \"banana\", \"tomato\",\"blueberry\"]\n",
    "fruit[-4] # start from right-side (-1)\n",
    "fruit[0:2] # take elements 0 threough 1 (tomato is 2)\n",
    "fruit[0:-2] # take elements 0 through 1 (tomato is -2)\n",
    "fruit[0:2] + fruit[-1:] \n",
    "fruit = fruit[0:2] + fruit[-1:] # removes tomato\n",
    "fruit"
   ]
  },
  {
   "cell_type": "code",
   "execution_count": null,
   "id": "b8c7da79",
   "metadata": {},
   "outputs": [
    {
     "data": {
      "text/plain": [
       "'apple'"
      ]
     },
     "execution_count": 6,
     "metadata": {},
     "output_type": "execute_result"
    }
   ],
   "source": [
    "# slicing a list- 리스트의 일부만 선택하거나 결합해서 새로운 리스틀르 만드는 방법\n",
    "fruit = [\"apple\", \"banana\", \"tomato\",\"blueberry\"]\n",
    "fruit[-4] # start from right-side (-1)   여기에서 fruit를 붙이지 않는것은 딱 저 질문에 대한 답만을 위해서"
   ]
  },
  {
   "cell_type": "code",
   "execution_count": 7,
   "id": "3110dfc6",
   "metadata": {},
   "outputs": [
    {
     "data": {
      "text/plain": [
       "['apple', 'banana']"
      ]
     },
     "execution_count": 7,
     "metadata": {},
     "output_type": "execute_result"
    }
   ],
   "source": [
    "# slicing a list- 리스트의 일부만 선택하거나 결합해서 새로운 리스틀르 만드는 방법\n",
    "fruit = [\"apple\", \"banana\", \"tomato\",\"blueberry\"]\n",
    "fruit[0:2] # take elements 0 threough 1 (tomato is 2)\n"
   ]
  },
  {
   "cell_type": "code",
   "execution_count": null,
   "id": "cbea7cf4",
   "metadata": {},
   "outputs": [
    {
     "data": {
      "text/plain": [
       "['apple', 'banana']"
      ]
     },
     "execution_count": 13,
     "metadata": {},
     "output_type": "execute_result"
    }
   ],
   "source": [
    "fruit = [\"apple\", \"banana\", \"tomato\",\"blueberry\"]\n",
    "fruit[0:-2] # take elements 0 through 1 (tomato is -2)\n",
    "# [start:end]구조 0에서 시작 -2의 값인 토마토앞까지 "
   ]
  },
  {
   "cell_type": "code",
   "execution_count": 10,
   "id": "c8e88faf",
   "metadata": {},
   "outputs": [
    {
     "data": {
      "text/plain": [
       "['apple', 'banana', 'blueberry']"
      ]
     },
     "execution_count": 10,
     "metadata": {},
     "output_type": "execute_result"
    }
   ],
   "source": [
    "# slicing a list- 리스트의 일부만 선택하거나 결합해서 새로운 리스틀르 만드는 방법\n",
    "fruit = [\"apple\", \"banana\", \"tomato\",\"blueberry\"]\n",
    "fruit[0:2] + fruit[-1:] # -1:에서 :을 뒤에 붙이면 그부분만 가져온다는 뜻, 붙이지 않고 fruit[-1]은 문자열로 생각해서 오류남, 즉 리스트로 다루려고 :을 붙임\n",
    "# fruit가 없을시 계산 결과만 보여주고 밑에 코드처럼 마지막에 fruit가 있으면 그 결과를 변수에 다시 저장한 값이 됨"
   ]
  },
  {
   "cell_type": "code",
   "execution_count": null,
   "id": "3e08f261",
   "metadata": {},
   "outputs": [
    {
     "data": {
      "text/plain": [
       "['apple', 'banana', 'tomato', 'blueberry']"
      ]
     },
     "execution_count": 12,
     "metadata": {},
     "output_type": "execute_result"
    }
   ],
   "source": [
    "fruit = [\"apple\", \"banana\", \"tomato\",\"blueberry\"]\n",
    "fruit[0:2] + fruit[-1:]  # 여기서는 계산만 한번 했고 저장하지 않음 그래서 밑에\n",
    "fruit                    # fruit이 처음 값 그대로 보여줌"
   ]
  },
  {
   "cell_type": "code",
   "execution_count": null,
   "id": "9f6d39b8",
   "metadata": {},
   "outputs": [
    {
     "data": {
      "text/plain": [
       "['apple', 'banana', 'blueberry']"
      ]
     },
     "execution_count": 11,
     "metadata": {},
     "output_type": "execute_result"
    }
   ],
   "source": [
    "# slicing a list- 리스트의 일부만 선택하거나 결합해서 새로운 리스틀르 만드는 방법\n",
    "fruit = [\"apple\", \"banana\", \"tomato\",\"blueberry\"]\n",
    "fruit = fruit[0:2] + fruit[-1:] # removes tomato # =이 등호를 넣어서 덮어씌움\n",
    "fruit"
   ]
  },
  {
   "cell_type": "code",
   "execution_count": null,
   "id": "e4d8d929",
   "metadata": {},
   "outputs": [
    {
     "data": {
      "text/plain": [
       "2"
      ]
     },
     "execution_count": 11,
     "metadata": {},
     "output_type": "execute_result"
    }
   ],
   "source": [
    "# find an index- 특정위치를 찾는법, 인덱스번호를 찾아줌\n",
    "fruit = [\"apple\", \"banana\", \"tomato\",\"blueberry\"]\n",
    "fruit.index(\"tomato\")"
   ]
  },
  {
   "cell_type": "code",
   "execution_count": null,
   "id": "ba68a813",
   "metadata": {},
   "outputs": [
    {
     "data": {
      "text/plain": [
       "5"
      ]
     },
     "execution_count": 15,
     "metadata": {},
     "output_type": "execute_result"
    }
   ],
   "source": [
    "# lists can contain anythig- 리스트안에 여러가지 자료형이 섞여 있을 수 있다\n",
    "misc_stuff = [\"apple\",3 ,3.14159, True,[1,2,[4,5,6]]] # 중첩리스트 \n",
    "misc_stuff[4][2][1] # 4: 4번째 자료에서 2: 2의 값에서 1: 첫번째 값"
   ]
  },
  {
   "cell_type": "code",
   "execution_count": null,
   "id": "aafcc2bd",
   "metadata": {},
   "outputs": [
    {
     "data": {
      "text/plain": [
       "['0', 'X', '0']"
      ]
     },
     "execution_count": 14,
     "metadata": {},
     "output_type": "execute_result"
    }
   ],
   "source": [
    "# more lists withing lists\n",
    "# a 2 dimensional (2D) list -리스트안에 리스트\n",
    "tic_tac_toe = [\n",
    "    ['X', 'O', 'X'], # tic_tac_toe[0]\n",
    "    ['O', 'X', 'O'], # tic_tac_toe[1]\n",
    "    ['X', 'O', 'X']  # tic_tac_toe[2]\n",
    "]\n",
    "tic_tac_toe[1]"
   ]
  },
  {
   "cell_type": "code",
   "execution_count": null,
   "id": "e4431681",
   "metadata": {},
   "outputs": [
    {
     "data": {
      "text/plain": [
       "'X'"
      ]
     },
     "execution_count": 15,
     "metadata": {},
     "output_type": "execute_result"
    }
   ],
   "source": [
    "# more lists withing lists\n",
    "# a 2 dimensional (2D) list -리스트안에 리스트\n",
    "tic_tac_toe = [\n",
    "    ['X', 'O', 'X'], # tic_tac_toe[0]\n",
    "    ['O', 'X', 'O'], # tic_tac_toe[1]\n",
    "    ['X', 'O', 'X']  # tic_tac_toe[2]\n",
    "]\n",
    "tic_tac_toe[1][1]"
   ]
  },
  {
   "cell_type": "code",
   "execution_count": 17,
   "id": "d5b6aca3",
   "metadata": {},
   "outputs": [
    {
     "data": {
      "text/plain": [
       "[['X', 'O', 'X'], ['O', 'O', 'O'], ['X', 'O', 'X']]"
      ]
     },
     "execution_count": 17,
     "metadata": {},
     "output_type": "execute_result"
    }
   ],
   "source": [
    "# more lists withing lists\n",
    "# a 2 dimensional (2D) list -리스트안에 리스트\n",
    "tic_tac_toe = [\n",
    "    ['X', 'O', 'X'], # tic_tac_toe[0]\n",
    "    ['O', 'X', 'O'], # tic_tac_toe[1]\n",
    "    ['X', 'O', 'X']  # tic_tac_toe[2]\n",
    "]\n",
    "tic_tac_toe[1][1] = 'O' # 두번째행 두번째 열의 값을 o로 변경 the center 'X'\n",
    "tic_tac_toe"
   ]
  },
  {
   "cell_type": "code",
   "execution_count": 19,
   "id": "2dfc06bb",
   "metadata": {},
   "outputs": [
    {
     "name": "stdout",
     "output_type": "stream",
     "text": [
      "[' ', ' ', ' ']|\n",
      "[' ', ' ', ' ']|\n",
      "[' ', ' ', ' ']|\n"
     ]
    }
   ],
   "source": [
    "# tic tac toe game\n",
    "tic_tac_toe = [\n",
    "    [' ', ' ', ' '], # tic_tac_toe[0]\n",
    "    [' ', ' ', ' '], # tic_tac_toe[1]\n",
    "    [' ', ' ', ' ']  # tic_tac_toe[2]\n",
    "]\n",
    "\n",
    "for row in tic_tac_toe:\n",
    "    print(f\"{row}|\")"
   ]
  },
  {
   "cell_type": "code",
   "execution_count": 20,
   "id": "3d25a04d",
   "metadata": {},
   "outputs": [
    {
     "name": "stdout",
     "output_type": "stream",
     "text": [
      " | | |\n",
      " | | |\n",
      " | | |\n"
     ]
    }
   ],
   "source": [
    "tic_tac_toe = [\n",
    "    [' ', ' ', ' '], # tic_tac_toe[0]\n",
    "    [' ', ' ', ' '], # tic_tac_toe[1]\n",
    "    [' ', ' ', ' ']  # tic_tac_toe[2]\n",
    "]\n",
    "\n",
    "for row in tic_tac_toe:\n",
    "    for col in row:\n",
    "        print(f\"{col}|\", end=\"\")\n",
    "    print()\n",
    "\n",
    "   "
   ]
  },
  {
   "cell_type": "code",
   "execution_count": 18,
   "id": "0cb7e7d0",
   "metadata": {},
   "outputs": [
    {
     "name": "stdout",
     "output_type": "stream",
     "text": [
      "X|O|X|\n",
      "O|O|O|\n",
      "X|O|X|\n"
     ]
    }
   ],
   "source": [
    "tic_tac_toe = [\n",
    "    ['X', 'O', 'X'], # tic_tac_toe[0]\n",
    "    ['O', 'X', 'O'], # tic_tac_toe[1]\n",
    "    ['X', 'O', 'X']  # tic_tac_toe[2]\n",
    "]\n",
    "tic_tac_toe[1][1] = 'O' # 두번째행 두번째 열의 값을 o로 변경 the center 'X'\n",
    "tic_tac_toe\n",
    "\n",
    "for row in tic_tac_toe:\n",
    "    for col in row:\n",
    "        print(f\"{col}|\", end=\"\")\n",
    "    print()"
   ]
  },
  {
   "cell_type": "code",
   "execution_count": null,
   "id": "39c891f6",
   "metadata": {},
   "outputs": [
    {
     "name": "stdout",
     "output_type": "stream",
     "text": [
      "1|2|3|\n",
      "4|5|6|\n",
      "7|8|9|\n"
     ]
    }
   ],
   "source": [
    "tic_tac_toe = [\n",
    "    [' ', ' ', ' '], # tic_tac_toe[0]\n",
    "    [' ', ' ', ' '], # tic_tac_toe[1]\n",
    "    [' ', ' ', ' ']  # tic_tac_toe[2]\n",
    "]\n",
    "pos =1\n",
    "for row in tic_tac_toe:\n",
    "    for col in row:\n",
    "        print(f\"{pos}|\", end=\"\")\n",
    "        pos += 1\n",
    "    print()\n",
    "\n",
    "\n"
   ]
  },
  {
   "cell_type": "code",
   "execution_count": 23,
   "id": "36dfd24c",
   "metadata": {},
   "outputs": [
    {
     "name": "stdout",
     "output_type": "stream",
     "text": [
      "1|2|3|\n",
      "4|5|6|\n",
      "7|8|9|\n",
      "row = 3\n"
     ]
    }
   ],
   "source": [
    "tic_tac_toe = [\n",
    "    [' ', ' ', ' '], # tic_tac_toe[0]\n",
    "    [' ', ' ', ' '], # tic_tac_toe[1]\n",
    "    [' ', ' ', ' ']  # tic_tac_toe[2]\n",
    "]\n",
    "pos =1\n",
    "for row in tic_tac_toe:\n",
    "    for col in row:\n",
    "        print(f\"{pos}|\", end=\"\")\n",
    "        pos += 1\n",
    "    print()\n",
    "\n",
    "\n",
    "choice = int(input(\"Pick a number: \"))\n",
    "row = choice // 3\n",
    "print(f\"row = {row}\")"
   ]
  },
  {
   "cell_type": "code",
   "execution_count": 24,
   "id": "840346b5",
   "metadata": {},
   "outputs": [
    {
     "name": "stdout",
     "output_type": "stream",
     "text": [
      "1|2|3|\n",
      "4|5|6|\n",
      "7|8|9|\n",
      "col = 0\n"
     ]
    }
   ],
   "source": [
    "tic_tac_toe = [\n",
    "    [' ', ' ', ' '], # tic_tac_toe[0]\n",
    "    [' ', ' ', ' '], # tic_tac_toe[1]\n",
    "    [' ', ' ', ' ']  # tic_tac_toe[2]\n",
    "]\n",
    "pos =1\n",
    "for row in tic_tac_toe:\n",
    "    for col in row:\n",
    "        print(f\"{pos}|\", end=\"\")\n",
    "        pos += 1\n",
    "    print()\n",
    "\n",
    "\n",
    "choice = int(input(\"Pick a number: \"))\n",
    "row = (choice - 1) // 3\n",
    "col = choice - row * 3 - 1\n",
    "print(f\"col = {col}\")"
   ]
  },
  {
   "cell_type": "code",
   "execution_count": 25,
   "id": "f8999428",
   "metadata": {},
   "outputs": [
    {
     "name": "stdout",
     "output_type": "stream",
     "text": [
      "1|2|3|\n",
      "4|5|6|\n",
      "7|8|9|\n"
     ]
    },
    {
     "data": {
      "text/plain": [
       "[['X', ' ', ' '], [' ', ' ', ' '], [' ', ' ', ' ']]"
      ]
     },
     "execution_count": 25,
     "metadata": {},
     "output_type": "execute_result"
    }
   ],
   "source": [
    "tic_tac_toe = [\n",
    "    [' ', ' ', ' '], # tic_tac_toe[0]\n",
    "    [' ', ' ', ' '], # tic_tac_toe[1]\n",
    "    [' ', ' ', ' ']  # tic_tac_toe[2]\n",
    "]\n",
    "pos =1\n",
    "for row in tic_tac_toe:\n",
    "    for col in row:\n",
    "        print(f\"{pos}|\", end=\"\")\n",
    "        pos += 1\n",
    "    print()\n",
    "\n",
    "\n",
    "choice = int(input(\"Pick a number: \"))\n",
    "row = (choice - 1) // 3\n",
    "col = choice - row * 3 - 1\n",
    "tic_tac_toe[row][col] = 'X'\n",
    "\n",
    "tic_tac_toe"
   ]
  },
  {
   "cell_type": "code",
   "execution_count": null,
   "id": "d1eed096",
   "metadata": {},
   "outputs": [
    {
     "name": "stdout",
     "output_type": "stream",
     "text": [
      "1|2|3|\n",
      "4|5|6|\n",
      "7|8|9|\n",
      "1|2|3|\n",
      "4|5|6|\n",
      "7|8|9|\n"
     ]
    }
   ],
   "source": [
    "tic_tac_toe = [\n",
    "    [' ', ' ', ' '], # tic_tac_toe[0]\n",
    "    [' ', ' ', ' '], # tic_tac_toe[1]\n",
    "    [' ', ' ', ' ']  # tic_tac_toe[2]\n",
    "]\n",
    "\n",
    "while True:\n",
    "    pos =1\n",
    "    for row in tic_tac_toe:\n",
    "        for col in row:\n",
    "            print(f\"{pos}|\", end=\"\")\n",
    "            pos += 1\n",
    "        print()\n",
    "\n",
    "\n",
    "    choice = int(input(\"Pick a number ( 0 to exit): \"))\n",
    "    if choice == 0:\n",
    "        break\n",
    "\n",
    "    row = (choice - 1) // 3\n",
    "    col = choice - row * 3 - 1\n",
    "\n",
    "    tic_tac_toe[row][col] = 'X'\n",
    "\n",
    "\n",
    " "
   ]
  },
  {
   "cell_type": "code",
   "execution_count": null,
   "id": "14596709",
   "metadata": {},
   "outputs": [
    {
     "name": "stdout",
     "output_type": "stream",
     "text": [
      "1|2|3|\n",
      "4|5|6|\n",
      "7|8|9|\n",
      "1|2|3|\n",
      "4|X|6|\n",
      "7|8|9|\n",
      "1|2|3|\n",
      "X|X|6|\n",
      "7|8|9|\n"
     ]
    }
   ],
   "source": [
    "tic_tac_toe = [\n",
    "    ['1', '2', '3'], # tic_tac_toe[0]\n",
    "    ['4', '5', '6'], # tic_tac_toe[1]\n",
    "    ['7', '8', '9']  # tic_tac_toe[2]\n",
    "]\n",
    "\n",
    "while True:\n",
    "    for row in tic_tac_toe:\n",
    "        for col in row:\n",
    "            print(f\"{col}|\", end=\"\")\n",
    "        print()\n",
    "\n",
    "\n",
    "    choice = int(input(\"Pick a number ( 0 to exit): \"))\n",
    "    if choice == 0:\n",
    "        break\n",
    "\n",
    "    row = (choice - 1) // 3\n",
    "    col = choice - row * 3 - 1\n",
    "\n",
    "    tic_tac_toe[row][col] = 'X'"
   ]
  },
  {
   "cell_type": "code",
   "execution_count": 30,
   "id": "110346c5",
   "metadata": {},
   "outputs": [
    {
     "name": "stdout",
     "output_type": "stream",
     "text": [
      "1|2|3|\n",
      "4|5|6|\n",
      "7|8|9|\n",
      "\n",
      "1|2|3|\n",
      "4|X|6|\n",
      "7|8|9|\n",
      "\n",
      "0|2|3|\n",
      "4|X|6|\n",
      "7|8|9|\n",
      "\n"
     ]
    }
   ],
   "source": [
    "tic_tac_toe = [\n",
    "    ['1', '2', '3'], # tic_tac_toe[0]\n",
    "    ['4', '5', '6'], # tic_tac_toe[1]\n",
    "    ['7', '8', '9']  # tic_tac_toe[2]\n",
    "]\n",
    "\n",
    "user ='X'\n",
    "while True:\n",
    "    pos =1\n",
    "    for row in tic_tac_toe:\n",
    "        for col in row:\n",
    "            print(f\"{col}|\", end=\"\")\n",
    "        print()\n",
    "    print()\n",
    "\n",
    "\n",
    "    choice = int(input(\"Pick a number( 0 to exit): \"))\n",
    "    if choice == 0:\n",
    "        break\n",
    "\n",
    "    row = (choice - 1) // 3\n",
    "    col = choice - row * 3 - 1\n",
    "\n",
    "    tic_tac_toe[row][col] = user\n",
    "\n",
    "    if user == 'X':\n",
    "        user = '0'\n",
    "    else:\n",
    "        user = 'X'\n"
   ]
  },
  {
   "cell_type": "code",
   "execution_count": null,
   "id": "39c75876",
   "metadata": {},
   "outputs": [
    {
     "data": {
      "text/plain": [
       "['Toronto', 'Vancouver', 'Dartmouth', 'Halifax']"
      ]
     },
     "execution_count": 29,
     "metadata": {},
     "output_type": "execute_result"
    }
   ],
   "source": [
    "cities = ['Halifax', 'Dartmouth', 'Vancouver', 'Toronto']\n",
    "cities[-1:-3:-1] # third parameter is amount to increase/decreas by \n",
    "cities[::2] # = [0::2] - 0에서 시작 2칸씩 뛰어서\n",
    "cities = cities[::-1] # go through entire list backwords\n",
    "cities"
   ]
  },
  {
   "cell_type": "code",
   "execution_count": 13,
   "id": "ae87cf22",
   "metadata": {},
   "outputs": [
    {
     "data": {
      "text/plain": [
       "['Toronto', 'Vancouver']"
      ]
     },
     "execution_count": 13,
     "metadata": {},
     "output_type": "execute_result"
    }
   ],
   "source": [
    "cities = ['Halifax', 'Dartmouth', 'Vancouver', 'Toronto']\n",
    "cities[-1:-3:-1]"
   ]
  },
  {
   "cell_type": "code",
   "execution_count": 15,
   "id": "cbeda98e",
   "metadata": {},
   "outputs": [
    {
     "data": {
      "text/plain": [
       "['Halifax', 'Vancouver']"
      ]
     },
     "execution_count": 15,
     "metadata": {},
     "output_type": "execute_result"
    }
   ],
   "source": [
    "cities = ['Halifax', 'Dartmouth', 'Vancouver', 'Toronto']\n",
    "\n",
    "cities[::2]"
   ]
  },
  {
   "cell_type": "code",
   "execution_count": null,
   "id": "2625c85f",
   "metadata": {},
   "outputs": [
    {
     "data": {
      "text/plain": [
       "(10, 20, 30, [40, 50])"
      ]
     },
     "execution_count": 35,
     "metadata": {},
     "output_type": "execute_result"
    }
   ],
   "source": [
    "numbers = [10,20,30,40,50]\n",
    "ten =numbers[0]\n",
    "twenty = numbers[1]\n",
    "thirty = numbers[2]\n",
    "\n",
    "\n",
    "# destructuring \n",
    "ten, twenty, thirty, *rest = numbers # *:남은 요소를 리스트로 묶어담아라의미\n",
    "ten, twenty, thirty, rest"
   ]
  },
  {
   "cell_type": "code",
   "execution_count": 42,
   "id": "aeb00873",
   "metadata": {},
   "outputs": [
    {
     "data": {
      "text/plain": [
       "['H', 'e', 'l', 'l', 'o', ' ', 'W', 'o', 'r', 'l', 'd', '!']"
      ]
     },
     "execution_count": 42,
     "metadata": {},
     "output_type": "execute_result"
    }
   ],
   "source": [
    "even_nums = [2, 4, 6, 8, 10]\n",
    "\n",
    "# reverse a list\n",
    "even_nums[::-1]   # won't modify the original list\n",
    "even_nums.reverse() # modifies the original list\n",
    "even_nums\n",
    "\n",
    "# sort a list\n",
    "random_nums = [ 1, 5, 3, 8, 2, 9]\n",
    "sorted(random_nums) # dosen't modify the original list\n",
    "random_nums.sort() # modifies the original list\n",
    "random_nums\n",
    "\n",
    "# check for value in list\n",
    "random_nums.index(3)  # only works if the value exists in the list\n",
    "3 in random_nums # returns True or False, if the value is in the list\n",
    "4 not in random_nums # returns True or False, if the value is NOT in the list\n",
    "\n",
    "# get unique values\n",
    "non_unique = [1,1,1,2,2,2,3,3,3,3,3,4]\n",
    "list(set(non_unique))\n",
    "\n",
    "\n",
    "# change other things to lists\n",
    "list(range(1, 11, 2))\n",
    "list(\"Hello World!\")"
   ]
  },
  {
   "cell_type": "code",
   "execution_count": null,
   "id": "2362909e",
   "metadata": {},
   "outputs": [
    {
     "data": {
      "text/plain": [
       "[10, 8, 6, 4, 2]"
      ]
     },
     "execution_count": 16,
     "metadata": {},
     "output_type": "execute_result"
    }
   ],
   "source": [
    "even_nums = [2, 4, 6, 8, 10]\n",
    "\n",
    "# reverse a list\n",
    "even_nums[::-1]   # won't modify the original list 역순복사본, 자체는 변하지않음\n",
    "even_nums.reverse() # modifies the original list 원본을 직접 변경\n",
    "even_nums"
   ]
  },
  {
   "cell_type": "code",
   "execution_count": null,
   "id": "71cb494c",
   "metadata": {},
   "outputs": [
    {
     "data": {
      "text/plain": [
       "[1, 2, 3, 5, 8, 9]"
      ]
     },
     "execution_count": 17,
     "metadata": {},
     "output_type": "execute_result"
    }
   ],
   "source": [
    "\n",
    "# sort a list\n",
    "random_nums = [ 1, 5, 3, 8, 2, 9]\n",
    "sorted(random_nums) # dosen't modify the original list 새리스트를 반환(원본유지)\n",
    "random_nums.sort() # modifies the original list 원본을 제자리에서 정렬\n",
    "random_nums"
   ]
  },
  {
   "cell_type": "code",
   "execution_count": null,
   "id": "4c85cea1",
   "metadata": {},
   "outputs": [],
   "source": [
    "# check for value in list\n",
    "random_nums.index(3)  # only works if the value exists in the list\n",
    "3 in random_nums # returns True or False, if the value is in the list\n",
    "4 not in random_nums # returns True or False, if the value is NOT in the list\n",
    "# index 값에 3이 있는지 확인 , 포함여부로 True/False, 또는 미포함여부로 True/False 보여줌"
   ]
  },
  {
   "cell_type": "code",
   "execution_count": null,
   "id": "31cfc3ec",
   "metadata": {},
   "outputs": [
    {
     "data": {
      "text/plain": [
       "[1, 2, 3, 4]"
      ]
     },
     "execution_count": 18,
     "metadata": {},
     "output_type": "execute_result"
    }
   ],
   "source": [
    "# get unique values\n",
    "non_unique = [1,1,1,2,2,2,3,3,3,3,3,4]\n",
    "list(set(non_unique))   # set은 집합 중복제거, 순서가 섞일수 있음"
   ]
  },
  {
   "cell_type": "code",
   "execution_count": 20,
   "id": "abf36846",
   "metadata": {},
   "outputs": [
    {
     "data": {
      "text/plain": [
       "[1, 3, 5, 7, 9]"
      ]
     },
     "execution_count": 20,
     "metadata": {},
     "output_type": "execute_result"
    }
   ],
   "source": [
    "\n",
    "# change other things to lists\n",
    "list(range(1, 11, 2)) # 1부터 10까지 2씩 증가 1,3,5,7,9\n"
   ]
  },
  {
   "cell_type": "code",
   "execution_count": 21,
   "id": "05725d37",
   "metadata": {},
   "outputs": [
    {
     "data": {
      "text/plain": [
       "['H', 'e', 'l', 'l', 'o', ' ', 'W', 'o', 'r', 'l', 'd', '!']"
      ]
     },
     "execution_count": 21,
     "metadata": {},
     "output_type": "execute_result"
    }
   ],
   "source": [
    "list(\"Hello World!\") # 각 문자로 분해"
   ]
  },
  {
   "cell_type": "code",
   "execution_count": null,
   "id": "a01cdf52",
   "metadata": {},
   "outputs": [
    {
     "name": "stdout",
     "output_type": "stream",
     "text": [
      " l = <class 'list'>, s =<class 'str'>\n"
     ]
    }
   ],
   "source": [
    "# strings as lists\n",
    "str = list(\"Hello World!\")\n",
    "l = str[0:5]    # 글자를 쪼개서 리스트로 변환, 0~4까지 슬라이싱 리스트로출력\n",
    "\n",
    "str = \"Hello World!\"   # 문자열 str\n",
    "s = str[0:5]\n",
    "\n",
    "print(f\" l = {type(l)}, s ={type(s)}\")"
   ]
  },
  {
   "cell_type": "code",
   "execution_count": null,
   "id": "8800a1fa",
   "metadata": {},
   "outputs": [
    {
     "name": "stdout",
     "output_type": "stream",
     "text": [
      "l = ['J', 'e', 'l', 'l', 'o']\n",
      "l = <class 'list'>, s = <class 'str'>\n"
     ]
    }
   ],
   "source": [
    "str = list(\"Hello World!\") #리스트이기에 변경가능\n",
    "l = str[0:5]\n",
    "l[0] = \"J\" # allowed as lists are \"mutable\"변경가능\n",
    "print(f\"l = {l}\")\n",
    "print(f\"l = {type(l)}, s = {type(s)}\")"
   ]
  },
  {
   "cell_type": "code",
   "execution_count": null,
   "id": "21e1ad34",
   "metadata": {},
   "outputs": [
    {
     "ename": "TypeError",
     "evalue": "'str' object does not support item assignment",
     "output_type": "error",
     "traceback": [
      "\u001b[31m---------------------------------------------------------------------------\u001b[39m",
      "\u001b[31mTypeError\u001b[39m                                 Traceback (most recent call last)",
      "\u001b[36mCell\u001b[39m\u001b[36m \u001b[39m\u001b[32mIn[34]\u001b[39m\u001b[32m, line 3\u001b[39m\n\u001b[32m      1\u001b[39m \u001b[38;5;28mstr\u001b[39m = \u001b[33m\"\u001b[39m\u001b[33mHello World!\u001b[39m\u001b[33m\"\u001b[39m\n\u001b[32m      2\u001b[39m s = \u001b[38;5;28mstr\u001b[39m[\u001b[32m0\u001b[39m:\u001b[32m5\u001b[39m]\n\u001b[32m----> \u001b[39m\u001b[32m3\u001b[39m \u001b[43ms\u001b[49m\u001b[43m[\u001b[49m\u001b[32;43m0\u001b[39;49m\u001b[43m]\u001b[49m = \u001b[33m\"\u001b[39m\u001b[33mJ\u001b[39m\u001b[33m\"\u001b[39m \u001b[38;5;66;03m# not allowed as strings are \"immutable\"\u001b[39;00m\n\u001b[32m      5\u001b[39m \u001b[38;5;28mprint\u001b[39m(\u001b[33mf\u001b[39m\u001b[33m\"\u001b[39m\u001b[33ml = \u001b[39m\u001b[38;5;132;01m{\u001b[39;00m\u001b[38;5;28mtype\u001b[39m(l)\u001b[38;5;132;01m}\u001b[39;00m\u001b[33m, s = \u001b[39m\u001b[38;5;132;01m{\u001b[39;00m\u001b[38;5;28mtype\u001b[39m(s)\u001b[38;5;132;01m}\u001b[39;00m\u001b[33m\"\u001b[39m)\n",
      "\u001b[31mTypeError\u001b[39m: 'str' object does not support item assignment"
     ]
    }
   ],
   "source": [
    "str = \"Hello World!\" # 문자열은 변경불가능\n",
    "s = str[0:5]\n",
    "s[0] = \"J\" # not allowed as strings are \"immutable\" 이코드틑 문자열이기에 바꿀수 없음\n",
    "\n",
    "print(f\"l = {type(l)}, s = {type(s)}\")"
   ]
  },
  {
   "cell_type": "code",
   "execution_count": null,
   "id": "8056d7c4",
   "metadata": {},
   "outputs": [],
   "source": []
  }
 ],
 "metadata": {
  "kernelspec": {
   "display_name": "Python 3",
   "language": "python",
   "name": "python3"
  },
  "language_info": {
   "codemirror_mode": {
    "name": "ipython",
    "version": 3
   },
   "file_extension": ".py",
   "mimetype": "text/x-python",
   "name": "python",
   "nbconvert_exporter": "python",
   "pygments_lexer": "ipython3",
   "version": "3.13.7"
  }
 },
 "nbformat": 4,
 "nbformat_minor": 5
}
