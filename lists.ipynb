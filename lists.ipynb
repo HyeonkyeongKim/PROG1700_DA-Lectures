{
 "cells": [
  {
   "cell_type": "code",
   "execution_count": 1,
   "id": "dec56393",
   "metadata": {},
   "outputs": [
    {
     "name": "stdout",
     "output_type": "stream",
     "text": [
      "Hello World!\n"
     ]
    }
   ],
   "source": [
    "print(\"Hello World!\")"
   ]
  },
  {
   "cell_type": "code",
   "execution_count": 5,
   "id": "e635d936",
   "metadata": {},
   "outputs": [
    {
     "name": "stdout",
     "output_type": "stream",
     "text": [
      "john\n",
      "jacob\n",
      "jingle\n",
      "hymer\n",
      "schmitt\n",
      "username1\n",
      "username2\n",
      "username3\n",
      "username4\n",
      "username5\n"
     ]
    }
   ],
   "source": [
    "username1 = \"john\"\n",
    "username2 = \"jacob\"\n",
    "username3 = \"jingle\"\n",
    "username4 = \"hymer\"\n",
    "username5 = \"schmitt\"\n",
    "\n",
    "print(username1)\n",
    "print(username2)\n",
    "print(username3)\n",
    "print(username4)\n",
    "print(username5)\n",
    "\n",
    "for i in range(1,6):\n",
    "    print(f\"username{i}\")"
   ]
  },
  {
   "cell_type": "code",
   "execution_count": null,
   "id": "9d7031de",
   "metadata": {},
   "outputs": [
    {
     "name": "stdout",
     "output_type": "stream",
     "text": [
      "john\n",
      "jacob\n",
      "jingle\n",
      "hymer\n",
      "schmitt\n",
      "john\n",
      "jacob\n",
      "jingle\n",
      "hymer\n",
      "schmitt\n"
     ]
    },
    {
     "data": {
      "text/plain": [
       "\"print ('hello world')\""
      ]
     },
     "execution_count": 9,
     "metadata": {},
     "output_type": "execute_result"
    }
   ],
   "source": [
    "username1 = \"john\"\n",
    "username2 = \"jacob\"\n",
    "username3 = \"jingle\"\n",
    "username4 = \"hymer\"\n",
    "username5 = \"schmitt\"\n",
    "\n",
    "print(username1)\n",
    "print(username2)\n",
    "print(username3)\n",
    "print(username4)\n",
    "print(username5)\n",
    "\n",
    "for i in range(1,6):\n",
    "    print(eval(f\"username{i}\"))\n",
    "\n"
   ]
  },
  {
   "cell_type": "code",
   "execution_count": 7,
   "id": "5c3d390d",
   "metadata": {},
   "outputs": [
    {
     "name": "stdout",
     "output_type": "stream",
     "text": [
      "username1\n",
      "Alice\n"
     ]
    }
   ],
   "source": [
    "#나의 정리\n",
    "username1 = \"Alice\"\n",
    "username2 = \"Bob\"\n",
    "\n",
    "name = \"username1\"      # 문자열, 즉 \"변수 이름\"일 뿐임\n",
    "print(name)              # 출력: username1\n",
    "print(eval(name))        # 출력: Alice  변수의 변수의 값을 가져오는 개념"
   ]
  },
  {
   "cell_type": "code",
   "execution_count": null,
   "id": "d1f49153",
   "metadata": {},
   "outputs": [
    {
     "data": {
      "text/plain": [
       "\"print ('hello world')\""
      ]
     },
     "execution_count": 11,
     "metadata": {},
     "output_type": "execute_result"
    }
   ],
   "source": [
    "\"print ('hello world')\" # \"print( 'hello world')\"는 그냥 문자열, \"\"안에 내용은 코드처럼 보이지만 아니라 텍스트!!\n",
    "\n",
    "# eval(\"print ('hello world')\")"
   ]
  },
  {
   "cell_type": "code",
   "execution_count": null,
   "id": "5ffb7975",
   "metadata": {},
   "outputs": [
    {
     "name": "stdout",
     "output_type": "stream",
     "text": [
      "hello world\n"
     ]
    }
   ],
   "source": [
    "# \"print ('hello world')\"\n",
    "\n",
    "eval(\"print ('hello world')\")  # eval()은 괄호안의 문자열을 실제 파이썬 코드처럼 실행-즉 \"print('hello world')\" 라는 문자열을 print('hello world')코드로 바꿔서 실행한거\n",
    "\n",
    "# does work... but a BIG security hole- 동작실행가능 유연하지만 보안취약점이 있다 예시로 악성코드가 시스템 명령을 실행할수 있어서 \n",
    "# 예시 eval(\"p\" + \"rint\"+ \"('he\" + \"llo')\")"
   ]
  },
  {
   "cell_type": "code",
   "execution_count": null,
   "id": "fffdf63a",
   "metadata": {},
   "outputs": [
    {
     "name": "stdout",
     "output_type": "stream",
     "text": [
      "['john', 'jacob', 'jingle', 'hymer', 'scheitt', 'jill']\n",
      "john\n",
      "jacob\n",
      "jingle\n",
      "hymer\n",
      "scheitt\n",
      "jill\n"
     ]
    }
   ],
   "source": [
    "# basic \n",
    "usernames = [ \"john\",\"jacob\",\"jingle\",\"hymer\",\"scheitt\",\"jill\"]\n",
    "print(usernames)\n",
    "\n",
    "# for i in range(1,7):  # 영역이 잘못됨, 리스트에서 영역 0~4임, index값을 가짐0부터, 그러나 range는 1~5를 나타냄\n",
    "#    print(usernames[i])\n",
    "\n",
    "# \"5\" is a \"magic number\"\n",
    "for i in range(5):\n",
    "    print(usernames[i])"
   ]
  },
  {
   "cell_type": "code",
   "execution_count": 19,
   "id": "5e28d3cb",
   "metadata": {},
   "outputs": [
    {
     "data": {
      "text/plain": [
       "7"
      ]
     },
     "execution_count": 19,
     "metadata": {},
     "output_type": "execute_result"
    }
   ],
   "source": [
    "# how many items are in the list?\n",
    "usernames = [ \"john\",\"jacob\",\"jingle\",\"hymer\",\"scheitt\",\"jill\",\"joe\"]\n",
    "len(usernames)"
   ]
  },
  {
   "cell_type": "code",
   "execution_count": null,
   "id": "6cf750f4",
   "metadata": {},
   "outputs": [
    {
     "name": "stdout",
     "output_type": "stream",
     "text": [
      "john\n",
      "jacob\n",
      "jingle\n",
      "hymer\n",
      "scheitt\n",
      "jill\n",
      "john\n",
      "jacob\n",
      "jingle\n",
      "hymer\n",
      "scheitt\n",
      "jill\n"
     ]
    }
   ],
   "source": [
    "# iterating through list\n",
    "usernames = [ \"john\",\"jacob\",\"jingle\",\"hymer\",\"scheitt\",\"jill\"]\n",
    "\n",
    "# one way\n",
    "for i in range(len(usernames)):   # 좀더 효율적으로 하는 방법 설명전\n",
    "    print(usernames[i])\n",
    "\n",
    "for username in usernames:        # 좀 더 쉽고 효율적, a list specific way shorter and easier to read/use\n",
    "    print(username)"
   ]
  },
  {
   "cell_type": "code",
   "execution_count": 23,
   "id": "876ae4b3",
   "metadata": {},
   "outputs": [
    {
     "name": "stdout",
     "output_type": "stream",
     "text": [
      "john\n",
      "jacob\n",
      "jingle\n",
      "hymer\n",
      "scheitt\n",
      "jill\n"
     ]
    }
   ],
   "source": [
    "usernames = [ \"john\",\"jacob\",\"jingle\",\"hymer\",\"scheitt\",\"jill\"]\n",
    "\n",
    "i = 0\n",
    "while (i < len(usernames)):\n",
    "    print(usernames[i])\n",
    "    i += 1"
   ]
  },
  {
   "cell_type": "code",
   "execution_count": 27,
   "id": "ed93ae69",
   "metadata": {},
   "outputs": [
    {
     "name": "stdout",
     "output_type": "stream",
     "text": [
      "0\n",
      "1\n",
      "2\n",
      "3\n",
      "4\n",
      "5\n",
      "0\n",
      "1\n",
      "2\n",
      "3\n",
      "4\n",
      "5\n",
      "0\n",
      "1\n",
      "2\n",
      "3\n",
      "4\n",
      "5\n"
     ]
    }
   ],
   "source": [
    "# 모니카 질문- for 문 안에서 어떻게 i가 range의 값들과 연될되는 \n",
    "# 선생님 설명 예시\n",
    "for i in range(6):\n",
    "    print(i)\n",
    "\n",
    "numbers = [ 0,1,2,3,4,5]\n",
    "for i in numbers:\n",
    "    print(i)\n",
    "\n",
    "for number in numbers:\n",
    "    print(number)\n",
    "\n",
    "# range(n)은 0부터 n-1까지의 연속된 숫자 생성, for i in range(n)은 range에서 숫자를 하나씩 꺼내서 i에 담고 반복,\n",
    "# [0,1,2,3,4,5] range(6)와 같은 결과(단, 리스트는 메모리에 실제로 저장됨), 둘다 0에서 5까지 순서대로 반복함"
   ]
  },
  {
   "cell_type": "code",
   "execution_count": null,
   "id": "d44da078",
   "metadata": {},
   "outputs": [
    {
     "name": "stdout",
     "output_type": "stream",
     "text": [
      "12\n",
      "56\n",
      "27\n",
      "78\n",
      "42\n",
      "59\n"
     ]
    }
   ],
   "source": [
    "grades = [12,56,27,78,42,59]\n",
    "for grade in grades:    # for grade in range grades: 라고 쓰지 않기 range의  의미는 이미 포함되어있어서\n",
    "    print(grade)\n"
   ]
  },
  {
   "cell_type": "code",
   "execution_count": null,
   "id": "d4a6d022",
   "metadata": {},
   "outputs": [
    {
     "name": "stdout",
     "output_type": "stream",
     "text": [
      "12\n",
      "56\n",
      "27\n",
      "78\n",
      "42\n",
      "59\n"
     ]
    }
   ],
   "source": [
    "grades = [\"12\",\"56\",\"27\",\"78\",\"42\",\"59\"]\n",
    "for grade in grades:    \n",
    "    print(grade)             #list에서 \"\"로 문자열로 되어있지만 숫자처럼 사용가능\n",
    " "
   ]
  },
  {
   "cell_type": "code",
   "execution_count": 34,
   "id": "2c7226df",
   "metadata": {},
   "outputs": [
    {
     "data": {
      "text/plain": [
       "[2, 2.21, 'number', True, True, [1, 2, 3]]"
      ]
     },
     "execution_count": 34,
     "metadata": {},
     "output_type": "execute_result"
    }
   ],
   "source": [
    "# a list can consist of anything\n",
    "items = [2, 2.21, \"number\", True, 1 < 4, [1,2,3]]\n",
    "items"
   ]
  },
  {
   "cell_type": "code",
   "execution_count": null,
   "id": "5df09456",
   "metadata": {},
   "outputs": [
    {
     "name": "stdout",
     "output_type": "stream",
     "text": [
      "['34', '12', '56', '78', '100', '0', '0', '0', '0', '0', 0]\n"
     ]
    }
   ],
   "source": [
    "# what if I don't know what the items are? 입력을 계속 받아 리스트에 저장하는 프로그램\n",
    "data = [0,0,0,0,0,0,0,0,0,0,0]\n",
    "i = 0\n",
    "while True:\n",
    "    user_input = input(\"Enter a number: \")\n",
    "    if user_input == \"\":\n",
    "        break\n",
    "    data[i] = user_input\n",
    "    i += 1\n",
    "\n",
    "print(data)"
   ]
  },
  {
   "cell_type": "code",
   "execution_count": 40,
   "id": "b575494e",
   "metadata": {},
   "outputs": [
    {
     "ename": "IndexError",
     "evalue": "list assignment index out of range",
     "output_type": "error",
     "traceback": [
      "\u001b[31m---------------------------------------------------------------------------\u001b[39m",
      "\u001b[31mIndexError\u001b[39m                                Traceback (most recent call last)",
      "\u001b[36mCell\u001b[39m\u001b[36m \u001b[39m\u001b[32mIn[40]\u001b[39m\u001b[32m, line 7\u001b[39m\n\u001b[32m      5\u001b[39m     \u001b[38;5;28;01mif\u001b[39;00m user_input == \u001b[33m\"\u001b[39m\u001b[33m\"\u001b[39m:\n\u001b[32m      6\u001b[39m         \u001b[38;5;28;01mbreak\u001b[39;00m\n\u001b[32m----> \u001b[39m\u001b[32m7\u001b[39m     \u001b[43mdata\u001b[49m\u001b[43m[\u001b[49m\u001b[43mi\u001b[49m\u001b[43m]\u001b[49m = user_input\n\u001b[32m      8\u001b[39m     i += \u001b[32m1\u001b[39m\n\u001b[32m     10\u001b[39m \u001b[38;5;28mprint\u001b[39m(data)\n",
      "\u001b[31mIndexError\u001b[39m: list assignment index out of range"
     ]
    }
   ],
   "source": [
    "data = [0,0,0,0,0]    # 만약에 5자리밖에 없는데 6개를 입력하면 오류가 남\n",
    "i = 0\n",
    "while True:\n",
    "    user_input = input(\"Enter a number: \")\n",
    "    if user_input == \"\":\n",
    "        break\n",
    "    data[i] = user_input\n",
    "    i += 1\n",
    "\n",
    "print(data)"
   ]
  },
  {
   "cell_type": "code",
   "execution_count": null,
   "id": "6dc32f80",
   "metadata": {},
   "outputs": [
    {
     "name": "stdout",
     "output_type": "stream",
     "text": [
      "['1', '2', '3', '4', '5']\n"
     ]
    }
   ],
   "source": [
    "data = [0,0,0,0,0]    # 만약에 5자리밖에 없는데 6개를 입력하면 오류가 남\n",
    "i = 0\n",
    "while True:\n",
    "    user_input = input(\"Enter a number: \")\n",
    "    if user_input == \"\":\n",
    "        break\n",
    "    data[i] = user_input\n",
    "    i += 1\n",
    "    if i >= 5:\n",
    "        break      # brak를 걸어준다\n",
    "\n",
    "print(data)"
   ]
  },
  {
   "cell_type": "code",
   "execution_count": null,
   "id": "fed4d915",
   "metadata": {},
   "outputs": [
    {
     "name": "stdout",
     "output_type": "stream",
     "text": [
      "['1', '2', '3', '4', '5', 0, 0, 0, 0, 0, 0, 0, 0, 0, 0, 0, 0, 0, 0, 0, 0, 0, 0, 0, 0, 0, 0, 0, 0, 0, 0, 0, 0, 0, 0, 0, 0, 0, 0, 0, 0, 0, 0, 0, 0, 0, 0, 0, 0, 0, 0, 0, 0, 0, 0, 0, 0, 0, 0, 0, 0, 0, 0, 0, 0, 0, 0, 0, 0, 0, 0, 0, 0, 0, 0, 0, 0, 0, 0, 0, 0, 0, 0, 0, 0, 0, 0, 0, 0, 0, 0, 0, 0, 0, 0, 0, 0, 0, 0, 0]\n"
     ]
    }
   ],
   "source": [
    "\n",
    "data = [0] * 100  # 복제연산자 사용 케이스\n",
    "i = 0\n",
    "while True:\n",
    "    user_input = input(\"Enter a number: \")\n",
    "    if user_input == \"\":\n",
    "        break\n",
    "    data[i] = user_input\n",
    "    i += 1\n",
    "    if i >=len(data):\n",
    "        break    \n",
    "\n",
    "print(data)\n",
    "\n"
   ]
  },
  {
   "cell_type": "code",
   "execution_count": 44,
   "id": "1c5f279b",
   "metadata": {},
   "outputs": [
    {
     "data": {
      "text/plain": [
       "[0, 0, 0, 0, 0, 0, 0, 0, 0, 0]"
      ]
     },
     "execution_count": 44,
     "metadata": {},
     "output_type": "execute_result"
    }
   ],
   "source": [
    "# creat a list of known size, but not known values\n",
    "data = [0] * 10\n",
    "data"
   ]
  },
  {
   "cell_type": "code",
   "execution_count": null,
   "id": "ccadee28",
   "metadata": {},
   "outputs": [
    {
     "data": {
      "text/plain": [
       "[1, 2, 3, 4, 5, 6, 7, 8, 9, 10]"
      ]
     },
     "execution_count": 46,
     "metadata": {},
     "output_type": "execute_result"
    }
   ],
   "source": [
    "# code a list with the values  1 through 10\n",
    "values = [0] * 10   # 0이 10개 들어있는 리스트생성\n",
    "for i in range(1, 11):   # 1부터 10까지 반복\n",
    "    values[i-1]= i       # i번째 숫자를 리스트의 (i-1) 위치에 저장\n",
    "values"
   ]
  },
  {
   "cell_type": "code",
   "execution_count": 47,
   "id": "edb6d8a2",
   "metadata": {},
   "outputs": [
    {
     "data": {
      "text/plain": [
       "[1, 2, 3, 4, 5, 6, 7, 8, 9, 10]"
      ]
     },
     "execution_count": 47,
     "metadata": {},
     "output_type": "execute_result"
    }
   ],
   "source": [
    "# 위에 식을 좀더 간결히\n",
    "values = list(range(1,11))\n",
    "values"
   ]
  },
  {
   "cell_type": "code",
   "execution_count": 48,
   "id": "81d85318",
   "metadata": {},
   "outputs": [
    {
     "data": {
      "text/plain": [
       "[2, 4, 6, 8, 10, 12, 14, 16, 18, 20]"
      ]
     },
     "execution_count": 48,
     "metadata": {},
     "output_type": "execute_result"
    }
   ],
   "source": [
    "# creat a list with the values 2 through 20 by 2s\n",
    "values = list(range(2,21,2))\n",
    "values"
   ]
  },
  {
   "cell_type": "code",
   "execution_count": null,
   "id": "6b7a29d4",
   "metadata": {},
   "outputs": [
    {
     "data": {
      "text/plain": [
       "['first', 'second', 4, 3, 2, 1, 0]"
      ]
     },
     "execution_count": 53,
     "metadata": {},
     "output_type": "execute_result"
    }
   ],
   "source": [
    "# fill an empty list\n",
    "empty =[]    # 빈 리스트 생성\n",
    "for i in range(5):   # 0부터 4까지 반복\n",
    "    empty.insert(0,i) #각 i값을 리스트 맨 앞(0번째)에 삽입- 그래서 숫자가 거꾸로 나옴 -특정자리에 넣어라: insert\n",
    "empty.insert(0, \"first\")  # 'first'를 맨 앞에 삽입\n",
    "empty.insert(1, \"second\") #'second'를 인덱스 1에 위치에 삽입\n",
    "empty"
   ]
  },
  {
   "cell_type": "code",
   "execution_count": null,
   "id": "0cc69692",
   "metadata": {},
   "outputs": [
    {
     "data": {
      "text/plain": [
       "['first', 'second', 'third']"
      ]
     },
     "execution_count": 54,
     "metadata": {},
     "output_type": "execute_result"
    }
   ],
   "source": [
    "# append to a list - 리스트에 값을 순서대로 추가하는 방법 끝에 추가함\n",
    "empty =[]\n",
    "empty.append(\"first\")\n",
    "empty.append(\"second\")\n",
    "empty.append(\"third\")\n",
    "empty"
   ]
  },
  {
   "cell_type": "code",
   "execution_count": null,
   "id": "02e79b63",
   "metadata": {},
   "outputs": [],
   "source": []
  }
 ],
 "metadata": {
  "kernelspec": {
   "display_name": "Python 3",
   "language": "python",
   "name": "python3"
  },
  "language_info": {
   "codemirror_mode": {
    "name": "ipython",
    "version": 3
   },
   "file_extension": ".py",
   "mimetype": "text/x-python",
   "name": "python",
   "nbconvert_exporter": "python",
   "pygments_lexer": "ipython3",
   "version": "3.13.7"
  }
 },
 "nbformat": 4,
 "nbformat_minor": 5
}
