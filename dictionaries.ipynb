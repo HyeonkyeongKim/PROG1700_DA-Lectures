{
 "cells": [
  {
   "cell_type": "code",
   "execution_count": null,
   "id": "45d13d81",
   "metadata": {},
   "outputs": [
    {
     "data": {
      "text/plain": [
       "'John'"
      ]
     },
     "execution_count": 2,
     "metadata": {},
     "output_type": "execute_result"
    }
   ],
   "source": [
    "# dictionaries\n",
    "# a.k.a objects (TypeScript) or hash tables (C/C++/Java)\n",
    "\n",
    "# a list is great!\n",
    "# but you have to remembr what the data is\n",
    "info = [\"John\", 30, \"Halifax\", \"555-1212\"]    # 리스트에서는 인덱스에 맞는 값을 출력할 수 있지만 무엇을 의미하는지 사람이 외워야함\n",
    "info[0]"
   ]
  },
  {
   "cell_type": "code",
   "execution_count": null,
   "id": "15d70e31",
   "metadata": {},
   "outputs": [
    {
     "data": {
      "text/plain": [
       "'John'"
      ]
     },
     "execution_count": 4,
     "metadata": {},
     "output_type": "execute_result"
    }
   ],
   "source": [
    "# dictionaries\n",
    "# a.k.a objects (TypeScript) or hash tables (C/C++/Java)\n",
    "\n",
    "# a list is great!\n",
    "# but you have to remembr what the data is\n",
    "info = [\"John\", 30, \"Halifax\", \"555-1212\"]\n",
    "info[0]\n",
    "\n",
    "# a dictionary can be better!\n",
    "info = {\n",
    "    \"name\": \"John\", # uses a 'key' 'value' pair\n",
    "    \"age\": 30,             # 딕셔너리는 key(이름표)와 value(값)을 쌍으로 저장함\n",
    "    \"city\": \"Halifax\",\n",
    "    \"phone\": \"555-1212\"\n",
    "}\n",
    "info[\"name\"]               # 그래서 이 함수로 name key값에 해당하는 John을 꺼냄"
   ]
  },
  {
   "cell_type": "code",
   "execution_count": null,
   "id": "f257cc16",
   "metadata": {},
   "outputs": [
    {
     "data": {
      "text/plain": [
       "{'name': 'John',\n",
       " 'age': 30,\n",
       " 'city': 'Halifax',\n",
       " 'phone': '555-1212',\n",
       " 'address': '123 Somewhere Dr.'}"
      ]
     },
     "execution_count": 5,
     "metadata": {},
     "output_type": "execute_result"
    }
   ],
   "source": [
    "# add to the dictionary\n",
    "info = {\n",
    "    \"name\": \"John\", # uses a 'key' 'value' pair\n",
    "    \"age\": 30,\n",
    "    \"city\": \"Halifax\",\n",
    "    \"phone\": \"555-1212\"\n",
    "}\n",
    "\n",
    "info[\"address\"] = \"123 Somewhere Dr.\"     # 없는 값을 추가함\n",
    "\n",
    "info"
   ]
  },
  {
   "cell_type": "code",
   "execution_count": null,
   "id": "bb00fba5",
   "metadata": {},
   "outputs": [
    {
     "data": {
      "text/plain": [
       "{'name': 'John', 'city': 'Halifax', 'phone': '555-1212'}"
      ]
     },
     "execution_count": 3,
     "metadata": {},
     "output_type": "execute_result"
    }
   ],
   "source": [
    "# removing from the dictionary\n",
    "info = {\n",
    "    \"name\": \"John\", # uses a 'key' 'value' pair\n",
    "    \"age\": 30,\n",
    "    \"city\": \"Halifax\",\n",
    "    \"phone\": \"555-1212\"\n",
    "}\n",
    "\n",
    "del info['age']     #  값을 없앰 , 큰따옴표, 작은 따옴표 다 됨\n",
    "\n",
    "info"
   ]
  },
  {
   "cell_type": "code",
   "execution_count": null,
   "id": "b84beb5b",
   "metadata": {},
   "outputs": [
    {
     "name": "stdout",
     "output_type": "stream",
     "text": [
      "555-1212\n"
     ]
    },
    {
     "data": {
      "text/plain": [
       "{'name': 'John', 'city': 'Halifax'}"
      ]
     },
     "execution_count": 9,
     "metadata": {},
     "output_type": "execute_result"
    }
   ],
   "source": [
    "# removing from the dictionary\n",
    "info = {\n",
    "    \"name\": \"John\", # uses a 'key' 'value' pair\n",
    "    \"age\": 30,\n",
    "    \"city\": \"Halifax\",\n",
    "    \"phone\": \"555-1212\"\n",
    "}\n",
    "\n",
    "del info['age']\n",
    "phone = info.pop('phone')    # pop() 은 꺼내다라는 뜻: 특정키를 삭제하면서 동시에 그 값을 반환함(그 결과를 변수에 담을 수 있게 돌려주는 것 return)\n",
    "print(phone)\n",
    "\n",
    "info"
   ]
  },
  {
   "cell_type": "code",
   "execution_count": 4,
   "id": "9d47eaea",
   "metadata": {},
   "outputs": [
    {
     "data": {
      "text/plain": [
       "123"
      ]
     },
     "execution_count": 4,
     "metadata": {},
     "output_type": "execute_result"
    }
   ],
   "source": [
    "# what can a dictionary contain\n",
    "data = {\n",
    "    'number' : 123, \n",
    "    'string' : \"hello\",\n",
    "    'list': [1,2,3,4,5],\n",
    "    'bool' : True,\n",
    "    'dict' : {'species' : 'cat', 'name' : 'grumpy'} \n",
    "}\n",
    "\n",
    "data['number']"
   ]
  },
  {
   "cell_type": "code",
   "execution_count": 5,
   "id": "b9a5d02d",
   "metadata": {},
   "outputs": [
    {
     "data": {
      "text/plain": [
       "'hello'"
      ]
     },
     "execution_count": 5,
     "metadata": {},
     "output_type": "execute_result"
    }
   ],
   "source": [
    "# what can a dictionary contain\n",
    "data = {\n",
    "    'number' : 123, \n",
    "    'string' : \"hello\",\n",
    "    'list': [1,2,3,4,5],\n",
    "    'bool' : True,\n",
    "    'dict' : {'species' : 'cat', 'name' : 'grumpy'} \n",
    "}\n",
    "\n",
    "\n",
    "data['string']\n"
   ]
  },
  {
   "cell_type": "code",
   "execution_count": 6,
   "id": "4c626276",
   "metadata": {},
   "outputs": [
    {
     "data": {
      "text/plain": [
       "True"
      ]
     },
     "execution_count": 6,
     "metadata": {},
     "output_type": "execute_result"
    }
   ],
   "source": [
    "# what can a dictionary contain\n",
    "data = {\n",
    "    'number' : 123, \n",
    "    'string' : \"hello\",\n",
    "    'list': [1,2,3,4,5],\n",
    "    'bool' : True,\n",
    "    'dict' : {'species' : 'cat', 'name' : 'grumpy'} \n",
    "}\n",
    "\n",
    "\n",
    "data['bool']\n"
   ]
  },
  {
   "cell_type": "code",
   "execution_count": 7,
   "id": "04c276ce",
   "metadata": {},
   "outputs": [
    {
     "data": {
      "text/plain": [
       "4"
      ]
     },
     "execution_count": 7,
     "metadata": {},
     "output_type": "execute_result"
    }
   ],
   "source": [
    "# what can a dictionary contain\n",
    "data = {\n",
    "    'number' : 123, \n",
    "    'string' : \"hello\",\n",
    "    'list': [1,2,3,4,5],\n",
    "    'bool' : True,\n",
    "    'dict' : {'species' : 'cat', 'name' : 'grumpy'} \n",
    "}\n",
    "\n",
    "data['list'][3]\n"
   ]
  },
  {
   "cell_type": "code",
   "execution_count": 8,
   "id": "5444b6a2",
   "metadata": {},
   "outputs": [
    {
     "data": {
      "text/plain": [
       "'grumpy'"
      ]
     },
     "execution_count": 8,
     "metadata": {},
     "output_type": "execute_result"
    }
   ],
   "source": [
    "# what can a dictionary contain\n",
    "data = {\n",
    "    'number' : 123, \n",
    "    'string' : \"hello\",\n",
    "    'list': [1,2,3,4,5],\n",
    "    'bool' : True,\n",
    "    'dict' : {'species' : 'cat', 'name' : 'grumpy'} \n",
    "}\n",
    "\n",
    "data['dict']['name']"
   ]
  },
  {
   "cell_type": "code",
   "execution_count": 9,
   "id": "8e6e3274",
   "metadata": {},
   "outputs": [
    {
     "data": {
      "text/plain": [
       "'grumpy'"
      ]
     },
     "execution_count": 9,
     "metadata": {},
     "output_type": "execute_result"
    }
   ],
   "source": [
    "# what can a dictionary contain\n",
    "data = {\n",
    "    'number' : 123, \n",
    "    'string' : \"hello\",\n",
    "    'list': [1,2,3,4,5],\n",
    "    'bool' : True,\n",
    "    'dict' : {'species' : 'cat', 'name' : 'grumpy'} \n",
    "}\n",
    "\n",
    "data['number']\n",
    "data['string']\n",
    "data['bool']\n",
    "data['list'][3]\n",
    "data['dict']['name']"
   ]
  },
  {
   "cell_type": "code",
   "execution_count": null,
   "id": "d47814af",
   "metadata": {},
   "outputs": [
    {
     "data": {
      "text/plain": [
       "dict_keys(['number', 'string', 'list', 'bool', 'dict'])"
      ]
     },
     "execution_count": 11,
     "metadata": {},
     "output_type": "execute_result"
    }
   ],
   "source": [
    "# how to iterate through a dictionary?\n",
    "data = {\n",
    "    'number' : 123, \n",
    "    'string' : \"hello\",\n",
    "    'list': [1,2,3,4,5],\n",
    "    'bool' : True,\n",
    "    'dict' : {'species' : 'cat', 'name' : 'grumpy'} \n",
    "}\n",
    "\n",
    "data.keys()   # 모든 key의 목록을 보여줌"
   ]
  },
  {
   "cell_type": "code",
   "execution_count": null,
   "id": "10c31838",
   "metadata": {},
   "outputs": [
    {
     "name": "stdout",
     "output_type": "stream",
     "text": [
      "123\n",
      "hello\n",
      "[1, 2, 3, 4, 5]\n",
      "True\n",
      "{'species': 'cat', 'name': 'grumpy'}\n"
     ]
    }
   ],
   "source": [
    "# how to iterate through a dictionary?\n",
    "data = {\n",
    "    'number' : 123, \n",
    "    'string' : \"hello\",\n",
    "    'list': [1,2,3,4,5],\n",
    "    'bool' : True,\n",
    "    'dict' : {'species' : 'cat', 'name' : 'grumpy'} \n",
    "}\n",
    "\n",
    "for k in data.keys():   # data.key()는 딕셔너리의 모든 키목록을 반환 ['number', 'string', 'list', 'bool', 'dict'] 그래서 for문은 이 키들을 하나씩 꺼내서 변수 k에 담는다\n",
    "    print(data[k])      # k= 'number', k ='string', k= 'list', k='bool',k= 'dict'\n",
    "                        # data[k]는 그 키에 해당하는 값을 가져온다"
   ]
  },
  {
   "cell_type": "code",
   "execution_count": null,
   "id": "46ee6633",
   "metadata": {},
   "outputs": [
    {
     "name": "stdout",
     "output_type": "stream",
     "text": [
      "123\n",
      "hello\n",
      "[1, 2, 3, 4, 5]\n",
      "True\n",
      "{'species': 'cat', 'name': 'grumpy'}\n"
     ]
    },
    {
     "data": {
      "text/plain": [
       "dict_items([('number', 123), ('string', 'hello'), ('list', [1, 2, 3, 4, 5]), ('bool', True), ('dict', {'species': 'cat', 'name': 'grumpy'})])"
      ]
     },
     "execution_count": 14,
     "metadata": {},
     "output_type": "execute_result"
    }
   ],
   "source": [
    "# how to iterate through a dictionary?\n",
    "data = {\n",
    "    'number' : 123, \n",
    "    'string' : \"hello\",\n",
    "    'list': [1,2,3,4,5],\n",
    "    'bool' : True,\n",
    "    'dict' : {'species' : 'cat', 'name' : 'grumpy'} \n",
    "}\n",
    "\n",
    "for k in data.keys():\n",
    "    print(data[k])\n",
    "\n",
    "data.items()    # 키와 값 쌍으로 보기"
   ]
  },
  {
   "cell_type": "code",
   "execution_count": null,
   "id": "db37b296",
   "metadata": {},
   "outputs": [
    {
     "name": "stdout",
     "output_type": "stream",
     "text": [
      "123\n",
      "hello\n",
      "[1, 2, 3, 4, 5]\n",
      "True\n",
      "{'species': 'cat', 'name': 'grumpy'}\n",
      "number 123\n",
      "string hello\n",
      "list [1, 2, 3, 4, 5]\n",
      "bool True\n",
      "dict {'species': 'cat', 'name': 'grumpy'}\n"
     ]
    }
   ],
   "source": [
    "# how to iterate through a dictionary?\n",
    "data = {\n",
    "    'number' : 123, \n",
    "    'string' : \"hello\",\n",
    "    'list': [1,2,3,4,5],\n",
    "    'bool' : True,\n",
    "    'dict' : {'species' : 'cat', 'name' : 'grumpy'} \n",
    "}\n",
    "\n",
    "for k in data.keys():   # key로 반복하면서 value 값 출력- 즉 딕셔너리의 값들만 순서대로 출력\n",
    "    print(data[k])\n",
    "\n",
    "for k, v in data.items():  # key와 value를 동시에 반복, 각 항목을 (key, value) 한쌍으로 가져옴 , k와 v는 변수이름일뿐 \n",
    "    print(k, v)"
   ]
  },
  {
   "cell_type": "code",
   "execution_count": null,
   "id": "5a5f15b3",
   "metadata": {},
   "outputs": [
    {
     "data": {
      "text/plain": [
       "OrderedDict([('apple', 'red'), ('banana', 'yellow'), ('orange', 'orange')])"
      ]
     },
     "execution_count": 15,
     "metadata": {},
     "output_type": "execute_result"
    }
   ],
   "source": [
    "# how to order a dictionary?\n",
    "\n",
    "from collections import OrderedDict\n",
    "fruit = OrderedDict([('apple', 'red'),('banana', 'yellow'),('orange', 'orange')])  # 딕셔너리를 순서가 있는 형태로 생성\n",
    "\n",
    "fruit"
   ]
  },
  {
   "cell_type": "code",
   "execution_count": null,
   "id": "eb2ff7e0",
   "metadata": {},
   "outputs": [
    {
     "name": "stdout",
     "output_type": "stream",
     "text": [
      "apple\n",
      "banana\n",
      "orange\n"
     ]
    }
   ],
   "source": [
    "# how to order a dictionary?\n",
    "\n",
    "from collections import OrderedDict\n",
    "fruit = OrderedDict([('apple', 'red'),('banana', 'yellow'),('orange', 'orange')])\n",
    "\n",
    "for k in fruit.keys():   # key들을 순서대로 하나씩 꺼냄\n",
    "    print(k)"
   ]
  },
  {
   "cell_type": "code",
   "execution_count": null,
   "id": "6580d73c",
   "metadata": {},
   "outputs": [],
   "source": [
    "for k in data.keys():\t키만 순회\t'number', 'string', ...\n",
    "for v in data.values():\t값만 순회\t123, \"hello\", ...\n",
    "for k, v in data.items():\t키와 값을 동시에 순회\t'number':123, 'string':'hello', ..."
   ]
  },
  {
   "cell_type": "code",
   "execution_count": 16,
   "id": "d9186667",
   "metadata": {},
   "outputs": [
    {
     "data": {
      "text/plain": [
       "dict_keys(['number', 'string', 'list', 'bool', 'dict'])"
      ]
     },
     "execution_count": 16,
     "metadata": {},
     "output_type": "execute_result"
    }
   ],
   "source": [
    "# more useful ways\n",
    "data = {\n",
    "    'number' : 123, \n",
    "    'string' : \"hello\",\n",
    "    'list': [1,2,3,4,5],\n",
    "    'bool' : True,\n",
    "    'dict' : {'species' : 'cat', 'name' : 'grumpy'} \n",
    "}\n",
    "\n",
    "data.keys()"
   ]
  },
  {
   "cell_type": "code",
   "execution_count": null,
   "id": "016e2e3c",
   "metadata": {},
   "outputs": [
    {
     "data": {
      "text/plain": [
       "['bool', 'dict', 'list', 'number', 'string']"
      ]
     },
     "execution_count": 17,
     "metadata": {},
     "output_type": "execute_result"
    }
   ],
   "source": [
    "# more useful ways\n",
    "data = {\n",
    "    'number' : 123, \n",
    "    'string' : \"hello\",\n",
    "    'list': [1,2,3,4,5],\n",
    "    'bool' : True,\n",
    "    'dict' : {'species' : 'cat', 'name' : 'grumpy'} \n",
    "}\n",
    "\n",
    "sorted(data.keys())   # dict_keys(['number', 'string', 'list', 'bool', 'dict']) 모든 key목록을 가져옴 , 그다음 sorted는 알파벳 또는 문자코드 순서로 정렬"
   ]
  },
  {
   "cell_type": "code",
   "execution_count": null,
   "id": "041d4be3",
   "metadata": {},
   "outputs": [
    {
     "data": {
      "text/plain": [
       "[('bool', True),\n",
       " ('dict', {'species': 'cat', 'name': 'grumpy'}),\n",
       " ('list', [1, 2, 3, 4, 5]),\n",
       " ('number', 123),\n",
       " ('string', 'hello')]"
      ]
     },
     "execution_count": 18,
     "metadata": {},
     "output_type": "execute_result"
    }
   ],
   "source": [
    "# more useful ways\n",
    "data = {\n",
    "    'number' : 123, \n",
    "    'string' : \"hello\",\n",
    "    'list': [1,2,3,4,5],\n",
    "    'bool' : True,\n",
    "    'dict' : {'species' : 'cat', 'name' : 'grumpy'} \n",
    "}\n",
    "\n",
    "sorted(data.keys())   # dict_keys(['number', 'string', 'list', 'bool', 'dict']) 모든 key목록을 가져옴 , 그다음 sorted는 알파벳 또는 문자코드 순서로 정렬\n",
    "sorted(data.items())  # 위에서 key들만 알파벳순으로 정렬한뒤 (key,value)쌍을 알파벳순으로 정렬"
   ]
  },
  {
   "cell_type": "code",
   "execution_count": null,
   "id": "eba22735",
   "metadata": {},
   "outputs": [
    {
     "data": {
      "text/plain": [
       "[('w044444', 'allen'),\n",
       " ('w022222', 'jone'),\n",
       " ('w011111', 'smith'),\n",
       " ('w033333', 'trumble')]"
      ]
     },
     "execution_count": 19,
     "metadata": {},
     "output_type": "execute_result"
    }
   ],
   "source": [
    "data ={\n",
    "    'w011111': 'smith',             # 딕셔너리를 값(value) 기준으로 정렬\n",
    "    'w022222': 'jone',\n",
    "    'w033333': 'trumble',\n",
    "    'w044444': 'allen'\n",
    "}\n",
    "sorted(data.items(), key=lambda x: x[1])  # sorted(정렬할_데이터, key=정렬기준)\n",
    "# data.items()는 딕셔너리의 (key,value)쌍들을 모두 꺼냄[('w011111', 'smith'), ('w022222', 'jone'), ('w033333', 'trumble'), ('w044444', 'allen')]- 튜플의 형태로꺼냄\n",
    "                                        # key=lambda x: x[1]  : sorted는 정렬기준을 key=인자에 넣을 수 있음, 리스트나 튜플 x의 두번째 값(즉 value)기준으로 정렬하라는 뜻\n",
    "                                        # x 는 (key, value)쌍 하나를 의미하니까 x[0]은 key, x[1]은 value / x[1] 각 튜플의 “값(value)” 부분 의미"
   ]
  },
  {
   "cell_type": "code",
   "execution_count": 23,
   "id": "94a7354b",
   "metadata": {},
   "outputs": [
    {
     "data": {
      "text/plain": [
       "[('w044444', 'allen'),\n",
       " ('w022222', 'jone'),\n",
       " ('w011111', 'smith'),\n",
       " ('w033333', 'trumble')]"
      ]
     },
     "execution_count": 23,
     "metadata": {},
     "output_type": "execute_result"
    }
   ],
   "source": [
    "# more useful ways\n",
    "data = {\n",
    "    'number' : 123, \n",
    "    'string' : \"hello\",\n",
    "    'list': [1,2,3,4,5],\n",
    "    'bool' : True,\n",
    "    'dict' : {'species' : 'cat', 'name' : 'grumpy'} \n",
    "}\n",
    "\n",
    "sorted(data.keys())\n",
    "\n",
    "data ={\n",
    "    'w011111': 'smith',\n",
    "    'w022222': 'jone',\n",
    "    'w033333': 'trumble',\n",
    "    'w044444': 'allen'\n",
    "}\n",
    "sorted(data.items(), key=lambda x: x[1])"
   ]
  },
  {
   "cell_type": "code",
   "execution_count": null,
   "id": "40778875",
   "metadata": {},
   "outputs": [
    {
     "data": {
      "text/plain": [
       "[1, 2, 3, 4, 5]"
      ]
     },
     "execution_count": 24,
     "metadata": {},
     "output_type": "execute_result"
    }
   ],
   "source": [
    "# dictionary unpacking 여러값을 한번에 꺼내서 각 변수에 나눠 담는 방법\n",
    "data = {\n",
    "    'number' : 123, \n",
    "    'string' : \"hello\",\n",
    "    'list': [1,2,3,4,5],\n",
    "    'bool' : True,\n",
    "    'dict' : {'species' : 'cat', 'name' : 'grumpy'} \n",
    "}\n",
    "                                            # data['list'] → [1, 2, 3, 4, 5],data['dict'] → {'species': 'cat', 'name': 'grumpy'} \n",
    "numbers, cat_info = data['list'], data['dict'] # 왼쪽 변수 두 개에 각각 나눠 담음 numbers ← [1, 2, 3, 4, 5]/cat_info ← {'species': 'cat', 'name': 'grumpy'}\n",
    "numbers"
   ]
  },
  {
   "cell_type": "code",
   "execution_count": null,
   "id": "1c96bbfe",
   "metadata": {},
   "outputs": [],
   "source": []
  }
 ],
 "metadata": {
  "kernelspec": {
   "display_name": "Python 3",
   "language": "python",
   "name": "python3"
  },
  "language_info": {
   "codemirror_mode": {
    "name": "ipython",
    "version": 3
   },
   "file_extension": ".py",
   "mimetype": "text/x-python",
   "name": "python",
   "nbconvert_exporter": "python",
   "pygments_lexer": "ipython3",
   "version": "3.13.7"
  }
 },
 "nbformat": 4,
 "nbformat_minor": 5
}
