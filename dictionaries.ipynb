{
 "cells": [
  {
   "cell_type": "code",
   "execution_count": 4,
   "id": "15d70e31",
   "metadata": {},
   "outputs": [
    {
     "data": {
      "text/plain": [
       "'John'"
      ]
     },
     "execution_count": 4,
     "metadata": {},
     "output_type": "execute_result"
    }
   ],
   "source": [
    "# dictionaries\n",
    "# a.k.a objects (TypeScript) or hash tables (C/C++/Java)\n",
    "\n",
    "# a list is great!\n",
    "# but you have to remembr what the data is\n",
    "info = [\"John\", 30, \"Halifax\", \"555-1212\"]\n",
    "info[0]\n",
    "\n",
    "# a dictionary can be better!\n",
    "info = {\n",
    "    \"name\": \"John\", # uses a 'key' 'value' pair\n",
    "    \"age\": 30,\n",
    "    \"city\": \"Halifax\",\n",
    "    \"phone\": \"555-1212\"\n",
    "}\n",
    "info[\"name\"]"
   ]
  },
  {
   "cell_type": "code",
   "execution_count": 5,
   "id": "f257cc16",
   "metadata": {},
   "outputs": [
    {
     "data": {
      "text/plain": [
       "{'name': 'John',\n",
       " 'age': 30,\n",
       " 'city': 'Halifax',\n",
       " 'phone': '555-1212',\n",
       " 'address': '123 Somewhere Dr.'}"
      ]
     },
     "execution_count": 5,
     "metadata": {},
     "output_type": "execute_result"
    }
   ],
   "source": [
    "# add to the dictionary\n",
    "info = {\n",
    "    \"name\": \"John\", # uses a 'key' 'value' pair\n",
    "    \"age\": 30,\n",
    "    \"city\": \"Halifax\",\n",
    "    \"phone\": \"555-1212\"\n",
    "}\n",
    "\n",
    "info[\"address\"] = \"123 Somewhere Dr.\"\n",
    "\n",
    "info"
   ]
  },
  {
   "cell_type": "code",
   "execution_count": 9,
   "id": "b84beb5b",
   "metadata": {},
   "outputs": [
    {
     "name": "stdout",
     "output_type": "stream",
     "text": [
      "555-1212\n"
     ]
    },
    {
     "data": {
      "text/plain": [
       "{'name': 'John', 'city': 'Halifax'}"
      ]
     },
     "execution_count": 9,
     "metadata": {},
     "output_type": "execute_result"
    }
   ],
   "source": [
    "# removing from the dictionary\n",
    "info = {\n",
    "    \"name\": \"John\", # uses a 'key' 'value' pair\n",
    "    \"age\": 30,\n",
    "    \"city\": \"Halifax\",\n",
    "    \"phone\": \"555-1212\"\n",
    "}\n",
    "\n",
    "del info['age']\n",
    "phone = info.pop('phone')\n",
    "print(phone)\n",
    "\n",
    "info"
   ]
  },
  {
   "cell_type": "code",
   "execution_count": 13,
   "id": "5444b6a2",
   "metadata": {},
   "outputs": [
    {
     "data": {
      "text/plain": [
       "'grumpy'"
      ]
     },
     "execution_count": 13,
     "metadata": {},
     "output_type": "execute_result"
    }
   ],
   "source": [
    "# what can a dictionary contain\n",
    "data = {\n",
    "    'number' : 123, \n",
    "    'string' : \"hello\",\n",
    "    'list': [1,2,3,4,5],\n",
    "    'bool' : True,\n",
    "    'dict' : {'species' : 'cat', 'name' : 'grumpy'} \n",
    "}\n",
    "\n",
    "data['number']\n",
    "data['string']\n",
    "data['bool']\n",
    "data['list'][3]\n",
    "data['dict']['name']"
   ]
  },
  {
   "cell_type": "code",
   "execution_count": 18,
   "id": "db37b296",
   "metadata": {},
   "outputs": [
    {
     "name": "stdout",
     "output_type": "stream",
     "text": [
      "123\n",
      "hello\n",
      "[1, 2, 3, 4, 5]\n",
      "True\n",
      "{'species': 'cat', 'name': 'grumpy'}\n",
      "number 123\n",
      "string hello\n",
      "list [1, 2, 3, 4, 5]\n",
      "bool True\n",
      "dict {'species': 'cat', 'name': 'grumpy'}\n"
     ]
    }
   ],
   "source": [
    "# how to iterate through a dictionary?\n",
    "data = {\n",
    "    'number' : 123, \n",
    "    'string' : \"hello\",\n",
    "    'list': [1,2,3,4,5],\n",
    "    'bool' : True,\n",
    "    'dict' : {'species' : 'cat', 'name' : 'grumpy'} \n",
    "}\n",
    "\n",
    "for k in data.keys():\n",
    "    print(data[k])\n",
    "\n",
    "for k, v in data.items():\n",
    "    print(k, v)"
   ]
  },
  {
   "cell_type": "code",
   "execution_count": 20,
   "id": "eb2ff7e0",
   "metadata": {},
   "outputs": [
    {
     "name": "stdout",
     "output_type": "stream",
     "text": [
      "apple\n",
      "banana\n",
      "orange\n"
     ]
    }
   ],
   "source": [
    "# how to order a dictionary?\n",
    "\n",
    "from collections import OrderedDict\n",
    "fruit = OrderedDict([('apple', 'red'),('banana', 'yellow'),('orange', 'orange')])\n",
    "\n",
    "for k in fruit.keys():\n",
    "    print(k)"
   ]
  },
  {
   "cell_type": "code",
   "execution_count": 23,
   "id": "94a7354b",
   "metadata": {},
   "outputs": [
    {
     "data": {
      "text/plain": [
       "[('w044444', 'allen'),\n",
       " ('w022222', 'jone'),\n",
       " ('w011111', 'smith'),\n",
       " ('w033333', 'trumble')]"
      ]
     },
     "execution_count": 23,
     "metadata": {},
     "output_type": "execute_result"
    }
   ],
   "source": [
    "# more useful ways\n",
    "data = {\n",
    "    'number' : 123, \n",
    "    'string' : \"hello\",\n",
    "    'list': [1,2,3,4,5],\n",
    "    'bool' : True,\n",
    "    'dict' : {'species' : 'cat', 'name' : 'grumpy'} \n",
    "}\n",
    "\n",
    "sorted(data.keys())\n",
    "\n",
    "data ={\n",
    "    'w011111': 'smith',\n",
    "    'w022222': 'jone',\n",
    "    'w033333': 'trumble',\n",
    "    'w044444': 'allen'\n",
    "}\n",
    "sorted(data.items(), key=lambda x: x[1])"
   ]
  },
  {
   "cell_type": "code",
   "execution_count": 24,
   "id": "40778875",
   "metadata": {},
   "outputs": [
    {
     "data": {
      "text/plain": [
       "[1, 2, 3, 4, 5]"
      ]
     },
     "execution_count": 24,
     "metadata": {},
     "output_type": "execute_result"
    }
   ],
   "source": [
    "# dictionary unpacking\n",
    "data = {\n",
    "    'number' : 123, \n",
    "    'string' : \"hello\",\n",
    "    'list': [1,2,3,4,5],\n",
    "    'bool' : True,\n",
    "    'dict' : {'species' : 'cat', 'name' : 'grumpy'} \n",
    "}\n",
    "\n",
    "numbers, cat_info = data['list'], data['dict']\n",
    "numbers"
   ]
  },
  {
   "cell_type": "code",
   "execution_count": null,
   "id": "1c96bbfe",
   "metadata": {},
   "outputs": [],
   "source": []
  }
 ],
 "metadata": {
  "kernelspec": {
   "display_name": "Python 3 (ipykernel)",
   "language": "python",
   "name": "python3"
  },
  "language_info": {
   "codemirror_mode": {
    "name": "ipython",
    "version": 3
   },
   "file_extension": ".py",
   "mimetype": "text/x-python",
   "name": "python",
   "nbconvert_exporter": "python",
   "pygments_lexer": "ipython3",
   "version": "3.13.7"
  }
 },
 "nbformat": 4,
 "nbformat_minor": 5
}
