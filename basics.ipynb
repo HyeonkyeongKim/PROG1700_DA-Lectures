{
 "cells": [
  {
   "cell_type": "code",
   "execution_count": 1,
   "id": "b1374f19-afe4-4bd2-ba97-c1f576f5eb2d",
   "metadata": {},
   "outputs": [
    {
     "name": "stdout",
     "output_type": "stream",
     "text": [
      "Hello, World!\n"
     ]
    }
   ],
   "source": [
    "print(\"Hello, World!\")"
   ]
  },
  {
   "cell_type": "code",
   "execution_count": 2,
   "id": "81c9239f-8ea5-4a43-a4a2-3e68aa8ddeb3",
   "metadata": {},
   "outputs": [],
   "source": [
    "# comment\n",
    "# this is another comment\n",
    "# here is one more\n",
    "# the puond sign is the important thing"
   ]
  },
  {
   "cell_type": "code",
   "execution_count": 3,
   "id": "4cca81e4-a5a8-4634-9e6a-9bf029901bb4",
   "metadata": {},
   "outputs": [
    {
     "data": {
      "text/plain": [
       "'\\n   here is a \\n   multiline\\n   comment.\\n   this is useful for\\n   large amounts of text.\\n'"
      ]
     },
     "execution_count": 3,
     "metadata": {},
     "output_type": "execute_result"
    }
   ],
   "source": [
    "## this is also a comment\n",
    "'''\n",
    "   here is a \n",
    "   multiline\n",
    "   comment.\n",
    "   this is useful for\n",
    "   large amounts of text.\n",
    "'''"
   ]
  },
  {
   "cell_type": "code",
   "execution_count": 4,
   "id": "a5847ac6-fb18-4183-939f-3f689e12ebd6",
   "metadata": {},
   "outputs": [
    {
     "name": "stdout",
     "output_type": "stream",
     "text": [
      "Hello World!\n",
      "Here is something else to print.\n",
      "Here is something in 'quotes' and some numbers: 1234567\n"
     ]
    }
   ],
   "source": [
    "# the Python 'print'statement\n",
    "\n",
    "# for simple output\n",
    "print(\"Hello World!\")\n",
    "print(\"Here is something else to print.\")\n",
    "print(\"Here is something in 'quotes' and some numbers: 1234567\")"
   ]
  },
  {
   "cell_type": "code",
   "execution_count": 5,
   "id": "d90ac5ec-847e-4ff8-b898-13579c8b4a92",
   "metadata": {},
   "outputs": [
    {
     "name": "stdout",
     "output_type": "stream",
     "text": [
      "This is a string\n"
     ]
    }
   ],
   "source": [
    "# a \"string\" is bunch alphanumeric data\n",
    "print(\"This is a string\")"
   ]
  },
  {
   "cell_type": "code",
   "execution_count": 7,
   "id": "e7ea32b8-0bd7-40a1-9e03-7700c85feac5",
   "metadata": {},
   "outputs": [
    {
     "name": "stdout",
     "output_type": "stream",
     "text": [
      "12345\n",
      "12345\n"
     ]
    }
   ],
   "source": [
    "# an integer is a number not in quotes\n",
    "print(12345)\n",
    "print(\"12345\")"
   ]
  },
  {
   "cell_type": "code",
   "execution_count": 8,
   "id": "2b45d834-3d15-4ba3-80bf-4fc66b5fb895",
   "metadata": {},
   "outputs": [
    {
     "name": "stdout",
     "output_type": "stream",
     "text": [
      "Hello World 123\n",
      "123 Somewhere st. Nova Scotia 456\n"
     ]
    }
   ],
   "source": [
    "# you can combine pieces of data together\n",
    "print(\"Hello World\",123)\n",
    "print(123, \"Somewhere st.\", \"Nova Scotia\", 456)"
   ]
  },
  {
   "cell_type": "code",
   "execution_count": 9,
   "id": "cd3c4963-4c04-44fb-a300-09100365741b",
   "metadata": {},
   "outputs": [
    {
     "name": "stdout",
     "output_type": "stream",
     "text": [
      "Hello\n",
      "World!\n"
     ]
    }
   ],
   "source": [
    "# special characters\n",
    "print(\"Hello\\nWorld!\") # \\n is a newline character"
   ]
  },
  {
   "cell_type": "code",
   "execution_count": 10,
   "id": "0a61555a-02a8-41b4-be86-ea030e60026a",
   "metadata": {},
   "outputs": [
    {
     "name": "stdout",
     "output_type": "stream",
     "text": [
      "Sale Price: 12345\n",
      "Sale Price:12345\n"
     ]
    }
   ],
   "source": [
    "# demonstrating different newline styles\n",
    "print(\"Sale Price:\", 12345)\n",
    "print(\"Sale Price:\", end=\"\")\n",
    "print(12345)"
   ]
  },
  {
   "cell_type": "code",
   "execution_count": 14,
   "id": "b70e7596-3276-4f2a-95bc-b4b37f2c1954",
   "metadata": {},
   "outputs": [
    {
     "name": "stdin",
     "output_type": "stream",
     "text": [
      "Enter a number: 1234\n"
     ]
    }
   ],
   "source": [
    "# getting input from the user\n",
    "user_input = input(\"Enter a number:\")"
   ]
  },
  {
   "cell_type": "code",
   "execution_count": null,
   "id": "19de844e-d0c8-44ea-9fd9-60799dac4820",
   "metadata": {},
   "outputs": [],
   "source": [
    "# more about variables\n",
    "\n",
    "# naming convention\n",
    "# keep variable names as descrptive as possible\n",
    "# snake_case\n",
    "# keep the Length of a variable name to 1,2, or 3 words (max)\n",
    "\n",
    "# examples of good variable names \n",
    "user_name = \"John Doe\" # a string variable\n",
    "cost = 123.45 # a decimal variable (flooting point value)\n",
    "small_number = 3 # an integer variable\n",
    "binary_number = 0b101011010 # a binary integer\n",
    "hexadecimal = 0xABCD1234 # a hexadecimal integer\n",
    "big_number = 1234567890 # huge interger\n",
    "\n",
    "# examples of bad variable names\n",
    "# my name = \"John\" # can't have spaces in the variable name\n",
    "# 123 = 123 can't a number as a variable name\n",
    "# :) = \"smiley\" # can't use special characters other than underscore\n",
    "#aVariableName = \"stuff\" # this is \"camelCasing\" and is used in other languages\n",
    "# x = \"hello\" # make variable names descriptive!"
   ]
  },
  {
   "cell_type": "code",
   "execution_count": 22,
   "id": "affba002-42ae-492c-98b3-56c038ca38c7",
   "metadata": {},
   "outputs": [
    {
     "name": "stdout",
     "output_type": "stream",
     "text": [
      "September 19 , 2025\n",
      "September 19, 2025\n"
     ]
    }
   ],
   "source": [
    "day = 19\n",
    "month = \"September\"\n",
    "year = \"2025\"\n",
    "print(month, day,\",\", year)\n",
    "#using an f-string instead\n",
    "print(f\"{month} {day}, {year}\")"
   ]
  },
  {
   "cell_type": "code",
   "execution_count": 23,
   "id": "204e56b3-4278-4025-89e3-891b973b58cd",
   "metadata": {},
   "outputs": [
    {
     "ename": "SyntaxError",
     "evalue": "unterminated f-string literal (detected at line 3) (3102342559.py, line 3)",
     "output_type": "error",
     "traceback": [
      "  \u001b[36mCell\u001b[39m\u001b[36m \u001b[39m\u001b[32mIn[23]\u001b[39m\u001b[32m, line 3\u001b[39m\n\u001b[31m    \u001b[39m\u001b[31mprint(f\"{first_name}.{last_name}@nscc.ca)\u001b[39m\n          ^\n\u001b[31mSyntaxError\u001b[39m\u001b[31m:\u001b[39m unterminated f-string literal (detected at line 3)\n"
     ]
    }
   ],
   "source": [
    "first_name = input (\"Enter your first name:\")\n",
    "last_name = input (\"Enter your last name:\")\n",
    "print(f\"{first_name}.{last_name}@nscc.ca)"
   ]
  },
  {
   "cell_type": "code",
   "execution_count": null,
   "id": "a3185bae-c34a-4bc4-a88c-ebbee1833950",
   "metadata": {},
   "outputs": [],
   "source": []
  }
 ],
 "metadata": {
  "kernelspec": {
   "display_name": "Python 3 (ipykernel)",
   "language": "python",
   "name": "python3"
  },
  "language_info": {
   "codemirror_mode": {
    "name": "ipython",
    "version": 3
   },
   "file_extension": ".py",
   "mimetype": "text/x-python",
   "name": "python",
   "nbconvert_exporter": "python",
   "pygments_lexer": "ipython3",
   "version": "3.13.7"
  }
 },
 "nbformat": 4,
 "nbformat_minor": 5
}
