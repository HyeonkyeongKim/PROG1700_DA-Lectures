{
 "cells": [
  {
   "cell_type": "code",
   "execution_count": 1,
   "id": "b1374f19-afe4-4bd2-ba97-c1f576f5eb2d",
   "metadata": {},
   "outputs": [
    {
     "name": "stdout",
     "output_type": "stream",
     "text": [
      "Hello, World!\n"
     ]
    }
   ],
   "source": [
    "print(\"Hello, World!\")"
   ]
  },
  {
   "cell_type": "code",
   "execution_count": 2,
   "id": "81c9239f-8ea5-4a43-a4a2-3e68aa8ddeb3",
   "metadata": {},
   "outputs": [],
   "source": [
    "# comment\n",
    "# this is another comment\n",
    "# here is one more\n",
    "# the puond sign is the important thing"
   ]
  },
  {
   "cell_type": "code",
   "execution_count": 3,
   "id": "4cca81e4-a5a8-4634-9e6a-9bf029901bb4",
   "metadata": {},
   "outputs": [
    {
     "data": {
      "text/plain": [
       "'\\n   here is a \\n   multiline\\n   comment.\\n   this is useful for\\n   large amounts of text.\\n'"
      ]
     },
     "execution_count": 3,
     "metadata": {},
     "output_type": "execute_result"
    }
   ],
   "source": [
    "## this is also a comment\n",
    "'''\n",
    "   here is a \n",
    "   multiline\n",
    "   comment.\n",
    "   this is useful for\n",
    "   large amounts of text.\n",
    "'''"
   ]
  },
  {
   "cell_type": "code",
   "execution_count": 4,
   "id": "a5847ac6-fb18-4183-939f-3f689e12ebd6",
   "metadata": {},
   "outputs": [
    {
     "name": "stdout",
     "output_type": "stream",
     "text": [
      "Hello World!\n",
      "Here is something else to print.\n",
      "Here is something in 'quotes' and some numbers: 1234567\n"
     ]
    }
   ],
   "source": [
    "# the Python 'print'statement\n",
    "\n",
    "# for simple output\n",
    "print(\"Hello World!\")\n",
    "print(\"Here is something else to print.\")\n",
    "print(\"Here is something in 'quotes' and some numbers: 1234567\")"
   ]
  },
  {
   "cell_type": "code",
   "execution_count": 5,
   "id": "d90ac5ec-847e-4ff8-b898-13579c8b4a92",
   "metadata": {},
   "outputs": [
    {
     "name": "stdout",
     "output_type": "stream",
     "text": [
      "This is a string\n"
     ]
    }
   ],
   "source": [
    "# a \"string\" is bunch alphanumeric data\n",
    "print(\"This is a string\")"
   ]
  },
  {
   "cell_type": "code",
   "execution_count": 7,
   "id": "e7ea32b8-0bd7-40a1-9e03-7700c85feac5",
   "metadata": {},
   "outputs": [
    {
     "name": "stdout",
     "output_type": "stream",
     "text": [
      "12345\n",
      "12345\n"
     ]
    }
   ],
   "source": [
    "# an integer is a number not in quotes\n",
    "print(12345)\n",
    "print(\"12345\")"
   ]
  },
  {
   "cell_type": "code",
   "execution_count": 8,
   "id": "2b45d834-3d15-4ba3-80bf-4fc66b5fb895",
   "metadata": {},
   "outputs": [
    {
     "name": "stdout",
     "output_type": "stream",
     "text": [
      "Hello World 123\n",
      "123 Somewhere st. Nova Scotia 456\n"
     ]
    }
   ],
   "source": [
    "# you can combine pieces of data together\n",
    "print(\"Hello World\",123)\n",
    "print(123, \"Somewhere st.\", \"Nova Scotia\", 456)"
   ]
  },
  {
   "cell_type": "code",
   "execution_count": 9,
   "id": "cd3c4963-4c04-44fb-a300-09100365741b",
   "metadata": {},
   "outputs": [
    {
     "name": "stdout",
     "output_type": "stream",
     "text": [
      "Hello\n",
      "World!\n"
     ]
    }
   ],
   "source": [
    "# special characters\n",
    "print(\"Hello\\nWorld!\") # \\n is a newline character"
   ]
  },
  {
   "cell_type": "code",
   "execution_count": 10,
   "id": "0a61555a-02a8-41b4-be86-ea030e60026a",
   "metadata": {},
   "outputs": [
    {
     "name": "stdout",
     "output_type": "stream",
     "text": [
      "Sale Price: 12345\n",
      "Sale Price:12345\n"
     ]
    }
   ],
   "source": [
    "# demonstrating different newline styles\n",
    "print(\"Sale Price:\", 12345)\n",
    "print(\"Sale Price:\", end=\"\")\n",
    "print(12345)"
   ]
  },
  {
   "cell_type": "code",
   "execution_count": 14,
   "id": "b70e7596-3276-4f2a-95bc-b4b37f2c1954",
   "metadata": {},
   "outputs": [
    {
     "name": "stdin",
     "output_type": "stream",
     "text": [
      "Enter a number: 1234\n"
     ]
    }
   ],
   "source": [
    "# getting input from the user\n",
    "user_input = input(\"Enter a number:\")"
   ]
  },
  {
   "cell_type": "code",
   "execution_count": null,
   "id": "19de844e-d0c8-44ea-9fd9-60799dac4820",
   "metadata": {},
   "outputs": [],
   "source": [
    "# more about variables\n",
    "\n",
    "# naming convention\n",
    "# keep variable names as descrptive as possible\n",
    "# snake_case\n",
    "# keep the Length of a variable name to 1,2, or 3 words (max)\n",
    "\n",
    "# examples of good variable names \n",
    "user_name = \"John Doe\" # a string variable\n",
    "cost = 123.45 # a decimal variable (flooting point value)\n",
    "small_number = 3 # an integer variable\n",
    "binary_number = 0b101011010 # a binary integer\n",
    "hexadecimal = 0xABCD1234 # a hexadecimal integer\n",
    "big_number = 1234567890 # huge interger\n",
    "\n",
    "# examples of bad variable names\n",
    "# my name = \"John\" # can't have spaces in the variable name\n",
    "# 123 = 123 can't a number as a variable name\n",
    "# :) = \"smiley\" # can't use special characters other than underscore\n",
    "#aVariableName = \"stuff\" # this is \"camelCasing\" and is used in other languages\n",
    "# x = \"hello\" # make variable names descriptive!"
   ]
  },
  {
   "cell_type": "code",
   "execution_count": 22,
   "id": "affba002-42ae-492c-98b3-56c038ca38c7",
   "metadata": {},
   "outputs": [
    {
     "name": "stdout",
     "output_type": "stream",
     "text": [
      "September 19 , 2025\n",
      "September 19, 2025\n"
     ]
    }
   ],
   "source": [
    "day = 19\n",
    "month = \"September\"\n",
    "year = \"2025\"\n",
    "print(month, day,\",\", year)\n",
    "#using an f-string instead\n",
    "print(f\"{month} {day}, {year}\")"
   ]
  },
  {
   "cell_type": "code",
   "execution_count": 2,
   "id": "204e56b3-4278-4025-89e3-891b973b58cd",
   "metadata": {},
   "outputs": [
    {
     "name": "stdin",
     "output_type": "stream",
     "text": [
      "Enter your first name: Kim\n",
      "Enter your last name: HK\n"
     ]
    },
    {
     "name": "stdout",
     "output_type": "stream",
     "text": [
      "Kim.HK@nscc.ca\n"
     ]
    }
   ],
   "source": [
    "first_name = input (\"Enter your first name:\")\n",
    "last_name = input (\"Enter your last name:\")\n",
    "print(f\"{first_name}.{last_name}@nscc.ca\")"
   ]
  },
  {
   "cell_type": "code",
   "execution_count": 6,
   "id": "a3185bae-c34a-4bc4-a88c-ebbee1833950",
   "metadata": {},
   "outputs": [
    {
     "name": "stdout",
     "output_type": "stream",
     "text": [
      "Hello World!!\n"
     ]
    }
   ],
   "source": [
    "\n",
    "# more about strigs\n",
    "\n",
    "# dfine a string variable\n",
    "text = \"Hello World\"\n",
    "\n",
    "# concatenation of strings\n",
    "\"concatenate\" + \"strings\"\n",
    "\n",
    "text = \"Hello\" + \" World\"\n",
    "text = text + \"!\"\n",
    "text += \"!\" \n",
    "print(text)\n"
   ]
  },
  {
   "cell_type": "code",
   "execution_count": 10,
   "id": "ccb8c423-14bb-4e83-8011-e1367194082e",
   "metadata": {},
   "outputs": [
    {
     "name": "stdout",
     "output_type": "stream",
     "text": [
      "5865 Leeds St\n"
     ]
    }
   ],
   "source": [
    "# combine strings and numbers\n",
    "# address = 5865 + \"Leed St\" # ERROR! Can't add a number to a string\n",
    "address = \"5865\" + \" Leeds St\"\n",
    "address = str(5865) + \" Leeds St\"\n",
    "address = f\"{5865} Leeds St\"\n",
    "print(address)"
   ]
  },
  {
   "cell_type": "code",
   "execution_count": 11,
   "id": "80aca363-7640-4071-a20b-0399b056bde0",
   "metadata": {},
   "outputs": [
    {
     "name": "stdout",
     "output_type": "stream",
     "text": [
      "Price: 123.45\n"
     ]
    }
   ],
   "source": [
    "#combine strings and decimals\n",
    "price_amount = 123.45\n",
    "price_string = \"Price: \" + str(price_amount)\n",
    "print(price_string)"
   ]
  },
  {
   "cell_type": "code",
   "execution_count": 14,
   "id": "e4271b89-26ed-4e6c-89c0-8c02e1ec96fd",
   "metadata": {},
   "outputs": [
    {
     "name": "stdout",
     "output_type": "stream",
     "text": [
      "Sum = 3\n"
     ]
    }
   ],
   "source": [
    "# combine strings and calculations\n",
    "answer = \"Sum = \" + str(1) + str(2)\n",
    "answer = \"Sum = \" + str(1 + 2)\n",
    "answer = f\"Sum = {1+2}\"\n",
    "print(answer)"
   ]
  },
  {
   "cell_type": "code",
   "execution_count": 22,
   "id": "abb3ce20-aaf0-4581-857b-9759c6d4e2cc",
   "metadata": {},
   "outputs": [
    {
     "data": {
      "text/plain": [
       "'Hello Hello Hello World World World'"
      ]
     },
     "execution_count": 22,
     "metadata": {},
     "output_type": "execute_result"
    }
   ],
   "source": [
    "# formatted strings \n",
    "\"{},{}\".format(\"Hello\", \"World\")\n",
    "\"{0},{1}\".format(\"Hello\",\"World\")\n",
    "\"{1},{0}\".format(\"Hello\",\"World\")\n",
    "\"{} + {} = {}\".format(1,2,(1+2))\n",
    "\"{0} {0} {0} {1} {1} {1}\".format(\"Hello\", \"World\")"
   ]
  },
  {
   "cell_type": "code",
   "execution_count": 24,
   "id": "5a26111a-18aa-405c-9707-91cbbf549020",
   "metadata": {},
   "outputs": [
    {
     "data": {
      "text/plain": [
       "'lamb'"
      ]
     },
     "execution_count": 24,
     "metadata": {},
     "output_type": "execute_result"
    }
   ],
   "source": [
    "# substrings\n",
    "\"cat dog mouse\"[4:7] # range where [stars:end+1]\n",
    "text = \"Mary had a little lamb\"\n",
    "text[18:22]"
   ]
  },
  {
   "cell_type": "code",
   "execution_count": 25,
   "id": "416e0f75-33e8-49f8-a1b8-84482c1fd659",
   "metadata": {},
   "outputs": [
    {
     "data": {
      "text/plain": [
       "'------------------------------'"
      ]
     },
     "execution_count": 25,
     "metadata": {},
     "output_type": "execute_result"
    }
   ],
   "source": [
    "# replication operator\n",
    "\"-\" * 30"
   ]
  },
  {
   "cell_type": "code",
   "execution_count": 31,
   "id": "0ba7ea36-3ea0-4d8c-8ca2-df0ffea05a51",
   "metadata": {},
   "outputs": [
    {
     "data": {
      "text/plain": [
       "bool"
      ]
     },
     "execution_count": 31,
     "metadata": {},
     "output_type": "execute_result"
    }
   ],
   "source": [
    "# more on data types\n",
    "\n",
    "# string\n",
    "# - a string of letters and numbers\n",
    "# - anything surrounded by double quotes\n",
    "type(\"Hello World\")\n",
    "\n",
    "# integer\n",
    "# - a whole number (no decimal points)\n",
    "# -not in quotation marks\n",
    "type(123)\n",
    "\n",
    "# floot\n",
    "# - a number with a decimal point\n",
    "# - all decimal numbers can't be represented (e.g. pi)\n",
    "# - more represents an approximation than an actual number\n",
    "1232312413254546256.12224354234364367687823\n",
    "type(123.45)\n",
    "\n",
    "# boolean\n",
    "# - True or False\n",
    "type(False)\n",
    "type(True)"
   ]
  },
  {
   "cell_type": "code",
   "execution_count": 37,
   "id": "8f10ab08-d8c1-4fcf-aa49-39940fe674e2",
   "metadata": {},
   "outputs": [
    {
     "data": {
      "text/plain": [
       "False"
      ]
     },
     "execution_count": 37,
     "metadata": {},
     "output_type": "execute_result"
    }
   ],
   "source": [
    "# change data types \n",
    "\n",
    "# convert to an integer\n",
    "int(\"123\") # success!\n",
    "# int(\"123a\") # error...\n",
    "str(\"123123.12123\")\n",
    "\n",
    "# convert to a string\n",
    "str(False)\n",
    "str(123)\n",
    "str(123.123)\n",
    "\n",
    "# convert to/from a float\n",
    "float(\"12.34\")\n",
    "float(123)\n",
    "int(1.23)\n",
    "# float(\"asdasd\") # error...\n",
    "\n",
    "# convert to/from a boolean\n",
    "bool(\"hello\")\n",
    "bool(\"\")\n",
    "bool(123)\n",
    "bool(0)\n",
    "bool(1.23)\n",
    "bool(0.0)"
   ]
  },
  {
   "cell_type": "code",
   "execution_count": 38,
   "id": "402c6eb8-e165-4029-9954-ddd96d450e2d",
   "metadata": {},
   "outputs": [
    {
     "data": {
      "text/plain": [
       "int"
      ]
     },
     "execution_count": 38,
     "metadata": {},
     "output_type": "execute_result"
    }
   ],
   "source": [
    "# declaring a variable with a specific data type \n",
    "answer = 123.45\n",
    "type(answer)\n",
    "answer = int(123.45)\n",
    "type(answer)"
   ]
  },
  {
   "cell_type": "code",
   "execution_count": 42,
   "id": "5ce3ea59-5dd6-44e6-ab9d-c7582be8032d",
   "metadata": {},
   "outputs": [
    {
     "name": "stdin",
     "output_type": "stream",
     "text": [
      "Enter a name 123\n",
      "Enter a number 123\n"
     ]
    },
    {
     "data": {
      "text/plain": [
       "int"
      ]
     },
     "execution_count": 42,
     "metadata": {},
     "output_type": "execute_result"
    }
   ],
   "source": [
    "# getting input from the user of a particular data type\n",
    "user_input = input(\"Enter a name\")\n",
    "type(user_input)\n",
    "user_number = int(user_input)\n",
    "type(user_number)\n",
    "user_number = int(input(\"Enter a number\"))\n",
    "type(user_number)"
   ]
  },
  {
   "cell_type": "code",
   "execution_count": 48,
   "id": "3bca3e77-30e9-4a9b-b745-7ec2b3c8b41b",
   "metadata": {},
   "outputs": [
    {
     "data": {
      "text/plain": [
       "5.0"
      ]
     },
     "execution_count": 48,
     "metadata": {},
     "output_type": "execute_result"
    }
   ],
   "source": [
    "# math........\n",
    "2 + 2\n",
    "4 - 2\n",
    "5 * 2\n",
    "10 / 4 # decimal division\n",
    "10 // 4 # integer division\n",
    "10 % 4 # modulus division (remainder of a long division)\n",
    "5 % 2\n",
    "5 ** 2 # exponents\n",
    "25 ** 0.5 # square root"
   ]
  },
  {
   "cell_type": "code",
   "execution_count": 51,
   "id": "94351948-6ea8-41ee-9709-55ab2e1e17de",
   "metadata": {},
   "outputs": [
    {
     "data": {
      "text/plain": [
       "7.75"
      ]
     },
     "execution_count": 51,
     "metadata": {},
     "output_type": "execute_result"
    }
   ],
   "source": [
    "# BEDMAS\n",
    "(1 + 2) * 2\n",
    "(1 + 2) * (3 - 4)\n",
    "(1 + 2) ** 2 /4 * 3 + 2 -1"
   ]
  },
  {
   "cell_type": "code",
   "execution_count": 1,
   "id": "b2c3452a-e9da-4b40-a1ff-f38e0a681671",
   "metadata": {},
   "outputs": [
    {
     "name": "stdout",
     "output_type": "stream",
     "text": [
      "5.0\n"
     ]
    }
   ],
   "source": [
    "# assignment operators\n",
    "a = 1 + 2\n",
    "a = a + 1\n",
    "a += 1\n",
    "a = a * 2\n",
    "a *= 2\n",
    "a = a / 2\n",
    "a /= 2\n",
    "print(a)"
   ]
  },
  {
   "cell_type": "code",
   "execution_count": 3,
   "id": "6875e328-c82b-417c-8c20-41fd01d53365",
   "metadata": {},
   "outputs": [
    {
     "data": {
      "text/plain": [
       "12.35"
      ]
     },
     "execution_count": 3,
     "metadata": {},
     "output_type": "execute_result"
    }
   ],
   "source": [
    "# math library\n",
    "import math \n",
    "math.pi\n",
    "math.sqrt(25)\n",
    "math.floor(5 / 2)\n",
    "math.floor(12.3455)\n",
    "math.ceil(12.3455)\n",
    "math.floor(1.6)\n",
    "math.ceil(1.3)\n",
    "round(12.3455, 2)"
   ]
  },
  {
   "cell_type": "code",
   "execution_count": 60,
   "id": "3643b521-c8bc-4285-9657-f976bb827ded",
   "metadata": {},
   "outputs": [
    {
     "data": {
      "text/plain": [
       "['__doc__',\n",
       " '__loader__',\n",
       " '__name__',\n",
       " '__package__',\n",
       " '__spec__',\n",
       " 'acos',\n",
       " 'acosh',\n",
       " 'asin',\n",
       " 'asinh',\n",
       " 'atan',\n",
       " 'atan2',\n",
       " 'atanh',\n",
       " 'cbrt',\n",
       " 'ceil',\n",
       " 'comb',\n",
       " 'copysign',\n",
       " 'cos',\n",
       " 'cosh',\n",
       " 'degrees',\n",
       " 'dist',\n",
       " 'e',\n",
       " 'erf',\n",
       " 'erfc',\n",
       " 'exp',\n",
       " 'exp2',\n",
       " 'expm1',\n",
       " 'fabs',\n",
       " 'factorial',\n",
       " 'floor',\n",
       " 'fma',\n",
       " 'fmod',\n",
       " 'frexp',\n",
       " 'fsum',\n",
       " 'gamma',\n",
       " 'gcd',\n",
       " 'hypot',\n",
       " 'inf',\n",
       " 'isclose',\n",
       " 'isfinite',\n",
       " 'isinf',\n",
       " 'isnan',\n",
       " 'isqrt',\n",
       " 'lcm',\n",
       " 'ldexp',\n",
       " 'lgamma',\n",
       " 'log',\n",
       " 'log10',\n",
       " 'log1p',\n",
       " 'log2',\n",
       " 'modf',\n",
       " 'nan',\n",
       " 'nextafter',\n",
       " 'perm',\n",
       " 'pi',\n",
       " 'pow',\n",
       " 'prod',\n",
       " 'radians',\n",
       " 'remainder',\n",
       " 'sin',\n",
       " 'sinh',\n",
       " 'sqrt',\n",
       " 'sumprod',\n",
       " 'tan',\n",
       " 'tanh',\n",
       " 'tau',\n",
       " 'trunc',\n",
       " 'ulp']"
      ]
     },
     "execution_count": 60,
     "metadata": {},
     "output_type": "execute_result"
    }
   ],
   "source": [
    "dir(math)"
   ]
  },
  {
   "cell_type": "code",
   "execution_count": null,
   "id": "a735c1b2-73cb-40db-994f-f3e01a6e725c",
   "metadata": {},
   "outputs": [],
   "source": []
  }
 ],
 "metadata": {
  "kernelspec": {
   "display_name": "Python 3 (ipykernel)",
   "language": "python",
   "name": "python3"
  },
  "language_info": {
   "codemirror_mode": {
    "name": "ipython",
    "version": 3
   },
   "file_extension": ".py",
   "mimetype": "text/x-python",
   "name": "python",
   "nbconvert_exporter": "python",
   "pygments_lexer": "ipython3",
   "version": "3.13.7"
  }
 },
 "nbformat": 4,
 "nbformat_minor": 5
}
