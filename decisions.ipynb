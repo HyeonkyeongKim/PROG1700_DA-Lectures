{
 "cells": [
  {
   "cell_type": "code",
   "execution_count": 2,
   "id": "8adeec2d-cee2-48f9-a37c-dbd992b18441",
   "metadata": {},
   "outputs": [
    {
     "name": "stdout",
     "output_type": "stream",
     "text": [
      "Hello World!\n"
     ]
    }
   ],
   "source": [
    "print(\"Hello World!\")"
   ]
  },
  {
   "cell_type": "code",
   "execution_count": 3,
   "id": "4fe23624-9062-46b0-8be4-9805ba3a079e",
   "metadata": {},
   "outputs": [],
   "source": [
    "# boolean variable\n",
    "boolean_variable = True\n",
    "boolean_variable = False\n",
    "#boolean_variable = true-- "
   ]
  },
  {
   "cell_type": "code",
   "execution_count": 4,
   "id": "2c4658fb-d981-4e4e-bd49-6763ec32c56e",
   "metadata": {},
   "outputs": [
    {
     "name": "stdout",
     "output_type": "stream",
     "text": [
      "True\n"
     ]
    }
   ],
   "source": [
    "# not boolean variable\n",
    "not_a_boolean_variable = \"True\"\n",
    "print(not_a_boolean_variable)\n",
    "not_a_boolean_variable = 1"
   ]
  },
  {
   "cell_type": "code",
   "execution_count": 6,
   "id": "b27b2157-5cf8-4fc6-b07d-26ed63709eea",
   "metadata": {},
   "outputs": [
    {
     "name": "stdout",
     "output_type": "stream",
     "text": [
      "1\n"
     ]
    }
   ],
   "source": [
    "# not boolean variable\n",
    "not_a_boolean_variable = \"True\"\n",
    "not_a_boolean_variable = 1\n",
    "print(not_a_boolean_variable)\n",
    "\n",
    "# 위에 식과 마지막에 대입한 것이 무엇이냐에 따라 프린트했을때 값이 다르다는 점을 설명"
   ]
  },
  {
   "cell_type": "code",
   "execution_count": 28,
   "id": "0b153ac6-15b3-450f-a1e2-ece9c9f0ee57",
   "metadata": {},
   "outputs": [
    {
     "name": "stdout",
     "output_type": "stream",
     "text": [
      "True\n",
      "False\n",
      "True\n",
      "False\n"
     ]
    },
    {
     "data": {
      "text/plain": [
       "'True'"
      ]
     },
     "execution_count": 28,
     "metadata": {},
     "output_type": "execute_result"
    }
   ],
   "source": [
    "# can make things boolean\n",
    "a_boolean_variable = bool(\"True\") # any valid string is True\n",
    "another_boolean = bool(\"Alphabet Soup\")\n",
    "print(a_boolean_variable)\n",
    "a_false_boolean = bool(\"\") # an empty string is False- 값이 비어있어서 False\n",
    "print(a_false_boolean)\n",
    "integer_to_boolean = bool(123123) # a non-zero integer is True\n",
    "print(integer_to_boolean)\n",
    "integer_to_boolean = bool(0) # a zero integer is False\n",
    "print(integer_to_boolean)\n",
    "\n",
    "# booleans conversions\n",
    "int(False)  # 0\n",
    "int(True)   # 1\n",
    "str(False)  # 'False'\n",
    "str(True)   # 'True' 글자로 바꿔줌\n",
    "\n",
    "# int(False) = 0\n",
    "# int(True) = 1\n",
    "\n",
    "# print(bool(\"\"))       # 빈 문자열 → False\n",
    "# print(bool(\"True\"))   # 문자열이지만 비어있지 않음 → True\n",
    "# print(bool(\"Hello\"))  # 아무 글자라도 있으면 True\n",
    "# print(bool(0))        # 0 → False\n",
    "# print(bool(42))       # 0이 아닌 숫자 → True\n",
    "# bool() 은 \"그 값이 비어있냐 / 값이 있냐\"를 기준으로 True/False를 결정합니다.\n",
    "# 그래서 \"True\"라는 문자열 내용이 True여서 그런 게 아니라, 문자열이 비어있지 않으니까 True가 된 거"
   ]
  },
  {
   "cell_type": "code",
   "execution_count": 12,
   "id": "ac12214c-50aa-4828-97a2-0d9fbddf622c",
   "metadata": {},
   "outputs": [
    {
     "data": {
      "text/plain": [
       "True"
      ]
     },
     "execution_count": 12,
     "metadata": {},
     "output_type": "execute_result"
    }
   ],
   "source": [
    "# the result of a camparison is a boolean value.\n",
    "1 > 2\n",
    "2 < 1\n",
    "1 < 2\n",
    "1 == 0\n",
    "1 <= 5\n",
    "5 <= 5\n",
    "6 >= 3\n"
   ]
  },
  {
   "cell_type": "code",
   "execution_count": 20,
   "id": "82d0895c-5dcb-4bc4-9f00-653fc03edffe",
   "metadata": {},
   "outputs": [
    {
     "data": {
      "text/plain": [
       "True"
      ]
     },
     "execution_count": 20,
     "metadata": {},
     "output_type": "execute_result"
    }
   ],
   "source": [
    "# any data type can be compared\n",
    "\"abc\" == \"123\"  # false\n",
    "\"abc\" == \"abc\"  # true\n",
    "\"apple\" < \"banana\" # 알파벳순서가 뒤인게 크다고 봐서 true\n",
    "3.1 < 4.5 # true\n",
    "3.1 == 3.1 # don't use equals with decimals\n",
    "           # 사람이 보기에는 0.1 + 0.2 = 0.3인데,\n",
    "           # 컴퓨터는 내부적으로 2진수(0과 1) 로 소수를 저장하기 때문에 약간의 오차가 발생해요.\n",
    "           # 그래서 ==로 비교하면 False가 나올 수도 있는 거\n"
   ]
  },
  {
   "cell_type": "code",
   "execution_count": 22,
   "id": "3cb0253e-afa4-42c1-b990-12e87078a6b7",
   "metadata": {},
   "outputs": [
    {
     "data": {
      "text/plain": [
       "True"
      ]
     },
     "execution_count": 22,
     "metadata": {},
     "output_type": "execute_result"
    }
   ],
   "source": [
    "# case-sensitive comparison\n",
    "\"abc\" == \"ABC\" # false\n",
    "\"abc\".lower() == \"ABC\".lower()\n",
    "\"abc\".upper() == \"ABC\".upper() # 대소문자 맞추기"
   ]
  },
  {
   "cell_type": "code",
   "execution_count": 34,
   "id": "a52aa13b-29e4-47a4-8f79-e1a35f70dfcc",
   "metadata": {},
   "outputs": [
    {
     "data": {
      "text/plain": [
       "True"
      ]
     },
     "execution_count": 34,
     "metadata": {},
     "output_type": "execute_result"
    }
   ],
   "source": [
    "# boolean camparisons\n",
    "True == False # false\n",
    "# boolean operator\n",
    "True == (not False)\n",
    "# booleans and other data types\n",
    "0 == False  # true\n",
    "1 == True   # true\n",
    "\"abc\" == True #false 자료형이다르기 때문\n",
    "True == bool(\"abc\") #true bool안에 값이들어있기에\n",
    "\"\" == False #false 문자열과 불리언은 다른 타입 → 무조건 False\n",
    "bool(\"\") == False # true 변환 후 False == False → True"
   ]
  },
  {
   "cell_type": "code",
   "execution_count": 39,
   "id": "c4326749-ff33-4fd3-958b-f37964c19850",
   "metadata": {},
   "outputs": [
    {
     "data": {
      "text/plain": [
       "1.4142135623730951"
      ]
     },
     "execution_count": 39,
     "metadata": {},
     "output_type": "execute_result"
    }
   ],
   "source": [
    "#float comparisons\n",
    "import math\n",
    "answer = 1.4144144144144144144144144144144144144144414 # the actual value is irrational 무리수\n",
    "answer == math.sqrt(2) # sqrt 루트값과 사람이 적은 근사값은 같지않기에 false\n",
    "math.sqrt(2)"
   ]
  },
  {
   "cell_type": "code",
   "execution_count": 44,
   "id": "7a4ef56d-5e07-47af-b8e7-efbf83a06680",
   "metadata": {},
   "outputs": [
    {
     "data": {
      "text/plain": [
       "True"
      ]
     },
     "execution_count": 44,
     "metadata": {},
     "output_type": "execute_result"
    }
   ],
   "source": [
    "# float are not exact\n",
    "a = 0.1\n",
    "b = 0.2\n",
    "a + b  # 0.30000000000000004\n",
    "(a + b) == 0.3 # false!!\n",
    "(a + b) >= 0.3 # true"
   ]
  },
  {
   "cell_type": "code",
   "execution_count": 47,
   "id": "2f61e875-3ca3-4979-acc4-4590bee7452a",
   "metadata": {},
   "outputs": [
    {
     "data": {
      "text/plain": [
       "True"
      ]
     },
     "execution_count": 47,
     "metadata": {},
     "output_type": "execute_result"
    }
   ],
   "source": [
    "# comparing variables\n",
    "num1 = 0\n",
    "num2 = 1\n",
    "num1 < num2 # true\n",
    "bool(num1) == False # bool(num1) 값이 0이기에 0은  false라는 말이 맞기에 True"
   ]
  },
  {
   "cell_type": "code",
   "execution_count": 50,
   "id": "9daccdce-9f7a-41cc-a707-d813ac346b48",
   "metadata": {},
   "outputs": [
    {
     "name": "stdout",
     "output_type": "stream",
     "text": [
      " !\"#$%&'()*+,-./0123456789:;<=>?@ABCDEFGHIJKLMNOPQRSTUVWXYZ[\\]^_`abcdefghijklmnopqrstuvwxyz{|}~\n"
     ]
    }
   ],
   "source": [
    "\"---()()%%%\" < \"===)(*&\" #True\n",
    "# ASCII order ASCII는 문자 ↔ 숫자 변환 표준 American Standard Code for Information Interchange \n",
    "# 컴퓨터는 **0과 1(이진수)**만 이해할 수 있죠.그래서 문자를 처리하려면, 문자 하나하나를 숫자로 바꿔서 저장해야 합니다. 그 규칙 중 하나가 바로 ASCII 코드입니다.\n",
    "print(''.join(chr(i) for i in range(32, 128)))"
   ]
  },
  {
   "cell_type": "code",
   "execution_count": 51,
   "id": "adda1521-61fe-46f5-88b5-7202b2d64808",
   "metadata": {},
   "outputs": [
    {
     "data": {
      "text/plain": [
       "'A'"
      ]
     },
     "execution_count": 51,
     "metadata": {},
     "output_type": "execute_result"
    }
   ],
   "source": [
    "# viewing a character\n",
    "chr(65) # chr() = code → character (숫자를 문자로 변환) ord() = character → code (문자를 숫자로 변환)"
   ]
  },
  {
   "cell_type": "code",
   "execution_count": 59,
   "id": "401e770c-acf1-4f77-9957-bcaa3fea0f91",
   "metadata": {},
   "outputs": [
    {
     "name": "stdout",
     "output_type": "stream",
     "text": [
      " .......\n",
      ".........\n",
      "?????\n"
     ]
    }
   ],
   "source": [
    "# decision\n",
    "num = 5\n",
    "if num > 10:\n",
    "    #do somethig if True\n",
    "    print(\"num > 10\") # 프린트앞에 공백 4칸\n",
    "    # do somethig else of True\n",
    "    print(\"num is still > 10\")\n",
    "# do something else still\n",
    "print(\" .......\")\n",
    "# if 조건이 True일 때만 들여쓰기 된 코드 블록이 실행됨. 조건이 False라면 블록은 건너뛰고, 다음 코드로 넘어감\n",
    "\n",
    "print(\".........\")\n",
    "     # print(\"????\") # 오류남 \n",
    "print(\"?????\") # 들여쓰기 맞춰야함"
   ]
  },
  {
   "cell_type": "code",
   "execution_count": 61,
   "id": "8fe1c2a7-45a9-474b-8549-18bf1f10f594",
   "metadata": {},
   "outputs": [
    {
     "name": "stdout",
     "output_type": "stream",
     "text": [
      "V\n"
     ]
    }
   ],
   "source": [
    "# creat a program that asks the user for an integer and and then display the equivalent Roman numeral\n",
    "# Roman numeral (VI = 6)\n",
    "\n",
    "# temporarily hard code the value to convert\n",
    "number = 7\n",
    "if number == 4:\n",
    "    print(\"IV\")\n",
    "if number == 5:\n",
    "    print(\"V\")\n",
    "if number == 6:\n",
    "    print(\"VI\")\n",
    "\n",
    "if number == 7:\n",
    "    print(\"VII\")\n"
   ]
  },
  {
   "cell_type": "code",
   "execution_count": 62,
   "id": "f3503719-2df4-417a-8570-7bf125b38629",
   "metadata": {},
   "outputs": [
    {
     "name": "stdout",
     "output_type": "stream",
     "text": [
      ">= 10\n"
     ]
    }
   ],
   "source": [
    "# else statemetn\n",
    "var1 = 10\n",
    "if var1 < 10:\n",
    "    #if True\n",
    "    print(\"< 10\")\n",
    "else:\n",
    "    # if False\n",
    "    print(\">= 10\")"
   ]
  },
  {
   "cell_type": "code",
   "execution_count": 63,
   "id": "1f76aad7-d04d-47b7-b260-58bc2dc45460",
   "metadata": {},
   "outputs": [
    {
     "name": "stdout",
     "output_type": "stream",
     "text": [
      "bamg... therown in garbage\n"
     ]
    }
   ],
   "source": [
    "# multiple comparisons\n",
    "fruit = \"kiwi\"\n",
    "if fruit == \"apple\":\n",
    "    print(\"crunch crunch...\")\n",
    "elif fruit == \"orange\":\n",
    "    print(\"squish squish...\")\n",
    "elif fruit == \"banana\":\n",
    "    print(\"mush mush....\")\n",
    "else:\n",
    "    print(\"bamg... therown in garbage\")"
   ]
  },
  {
   "cell_type": "code",
   "execution_count": 65,
   "id": "4228fde6-1771-4ab3-a1f4-14747623e589",
   "metadata": {},
   "outputs": [
    {
     "name": "stdout",
     "output_type": "stream",
     "text": [
      "Not a poniac\n"
     ]
    }
   ],
   "source": [
    "# alternative\n",
    "# nested if statements\n",
    "car = \"dodge\"\n",
    "model = \"firebird\"\n",
    "colour = \"blue\"\n",
    "if car == \"pontica\":\n",
    "    if model == \"firebird\":\n",
    "        if colour == \"red\":\n",
    "            print(\"BUY NOW!\")\n",
    "else:\n",
    "    print(\"Not a poniac\")"
   ]
  },
  {
   "cell_type": "code",
   "execution_count": 3,
   "id": "dae903e2-7987-482d-b31f-518aa49dc4e1",
   "metadata": {},
   "outputs": [
    {
     "name": "stdout",
     "output_type": "stream",
     "text": [
      "possibly an F?\n",
      "Better luck next time.\n"
     ]
    }
   ],
   "source": [
    "# a really big if statement with all the fixings\n",
    "grade = 34\n",
    "\n",
    "if grade > 90:\n",
    "    print(\"A\")\n",
    "elif grade > 10:\n",
    "    print(\"possibly an F?\")\n",
    "    if grade >= 60:\n",
    "        print(\"Not an F\")\n",
    "    elif grade > 40:\n",
    "        print(\"Not doing horribly...\")\n",
    "        if grade > 50:\n",
    "            print(\"Well,  better than a 40!\")\n",
    "        else:\n",
    "            print(\"Need a little a more effort...\")\n",
    "    else: \n",
    "        print(\"Better luck next time.\")\n",
    "else:\n",
    "    print(\"Not an A\")"
   ]
  },
  {
   "cell_type": "code",
   "execution_count": 5,
   "id": "05eeb55d-3bc5-4d21-9c72-fff78c043ee0",
   "metadata": {},
   "outputs": [
    {
     "name": "stdout",
     "output_type": "stream",
     "text": [
      "green\n",
      "green\n"
     ]
    }
   ],
   "source": [
    "# program to mix paint colours\n",
    "\n",
    "# given two primary colours\n",
    "colour1 = \"blue\"\n",
    "colour2 = \"yellow\"\n",
    "\n",
    "# determine the mixed colour\n",
    "if colour1 ==\"blue\":\n",
    "    if colour2 == \"yellow\":\n",
    "        print(\"green\")  # 첫번째 방법- nested\n",
    "\n",
    "\n",
    "if colour1 == \"blue\" and colour2 == \"yellow\":\n",
    "    print(\"green\")  # 두번째 방법- compound"
   ]
  },
  {
   "cell_type": "code",
   "execution_count": 8,
   "id": "2b8cd140-097d-4c85-b82e-70eea004fd45",
   "metadata": {},
   "outputs": [
    {
     "name": "stdout",
     "output_type": "stream",
     "text": [
      "orange\n",
      "orange\n"
     ]
    }
   ],
   "source": [
    "# Check!!!!!\n",
    "\n",
    "colour1 = \"red\"\n",
    "colour2 = \"yellow\"\n",
    "\n",
    "# determine the mixed colour\n",
    "if colour1 ==\"red\":\n",
    "    if colour2 == \"yellow\":\n",
    "        print(\"orange\")\n",
    "        \n",
    "\n",
    "if colour1 == \"red\" and colour2 == \"yellow\":\n",
    "    print(\"orange\")"
   ]
  },
  {
   "cell_type": "code",
   "execution_count": 6,
   "id": "1c611426-bf32-45be-bf55-7e42da464104",
   "metadata": {},
   "outputs": [
    {
     "name": "stdout",
     "output_type": "stream",
     "text": [
      "green\n",
      "green\n"
     ]
    }
   ],
   "source": [
    "colour1= \"blue\"\n",
    "colour2= \"yellow\"\n",
    "\n",
    "if colour1 ==\"blue\":\n",
    "    if colour2 == \"yellow\":\n",
    "        print(\"green\")\n",
    "elif colour1 == \"red\":\n",
    "    if colour2 == \"yellow\":\n",
    "        print(\"orange\")\n",
    "        \n",
    "\n",
    "if colour1 == \"blue\" and colour2 == \"yellow\":\n",
    "    print(\"green\")"
   ]
  },
  {
   "cell_type": "code",
   "execution_count": 7,
   "id": "c14cf159-662f-47e8-9ff1-8f16800aed70",
   "metadata": {},
   "outputs": [
    {
     "name": "stdout",
     "output_type": "stream",
     "text": [
      "orange\n",
      "orange\n"
     ]
    }
   ],
   "source": [
    "colour1= \"red\"\n",
    "colour2= \"yellow\"\n",
    "\n",
    "if colour1 == \"blue\":\n",
    "    if colour2 == \"yellow\":\n",
    "        print(\"green\")\n",
    "elif colour1 == \"red\":\n",
    "    if colour2 == \"yellow\":\n",
    "        print(\"orange\")\n",
    "\n",
    "\n",
    "if colour1 == \"red\" and colour2 == \"yellow\":\n",
    "    print(\"orange\")\n",
    "\n",
    "# nested 든 compund든 효율성보다 프로그램이 더 잘 작동하게 만들면 된다 강조\n"
   ]
  },
  {
   "cell_type": "code",
   "execution_count": 8,
   "id": "28186c5f-a23f-48bc-a411-75ebb5869458",
   "metadata": {},
   "outputs": [
    {
     "name": "stdout",
     "output_type": "stream",
     "text": [
      "violet\n"
     ]
    }
   ],
   "source": [
    "colour1= \"red\"\n",
    "colour2= \"blue\"\n",
    "\n",
    "if colour1 == \"blue\":\n",
    "    if colour2 == \"yellow\":\n",
    "        print(\"green\")\n",
    "elif colour1 == \"red\":\n",
    "    if colour2 == \"yellow\":\n",
    "        print(\"orange\")\n",
    "if colour1 == \"red\":\n",
    "    if colour2 == \"blue\":\n",
    "        print(\"violet\")\n",
    "\n",
    "\n",
    "if colour1 == \"red\" and colour2 == \"yellow\":\n",
    "    print(\"orange\")"
   ]
  },
  {
   "cell_type": "code",
   "execution_count": 9,
   "id": "2d02e92c-2084-4fdd-bfbf-52fbfe34d9e7",
   "metadata": {},
   "outputs": [
    {
     "name": "stdout",
     "output_type": "stream",
     "text": [
      "violet\n"
     ]
    }
   ],
   "source": [
    "colour1= \"red\"\n",
    "colour2= \"blue\"\n",
    "\n",
    "if colour1 == \"blue\":\n",
    "    if colour2 == \"yellow\":\n",
    "        print(\"green\")\n",
    "elif colour1 == \"red\":\n",
    "    if colour2 == \"yellow\":\n",
    "        print(\"orange\")\n",
    "    \n",
    "    elif colour2 == \"blue\":\n",
    "        print(\"violet\")\n",
    "\n"
   ]
  },
  {
   "cell_type": "code",
   "execution_count": 11,
   "id": "7e307f4e-16f0-4499-9859-09fbf5435741",
   "metadata": {},
   "outputs": [
    {
     "name": "stdout",
     "output_type": "stream",
     "text": [
      "violet\n"
     ]
    }
   ],
   "source": [
    "# compound if\n",
    "colour1= \"red\"\n",
    "colour2= \"blue\"\n",
    "\n",
    "if colour1 == \"blue\" and colour2 == \"yellow\":\n",
    "    print(\"green\")\n",
    "elif colour1 == \"red\" and colour2 == \"yellow\":\n",
    "    print(\"orange\")\n",
    "elif  colour1 == \"red\" and colour2 == \"blue\":\n",
    "    print(\"violet\")"
   ]
  },
  {
   "cell_type": "code",
   "execution_count": 13,
   "id": "97206248-b101-4484-a840-65a056b44796",
   "metadata": {},
   "outputs": [
    {
     "name": "stdout",
     "output_type": "stream",
     "text": [
      "violet\n"
     ]
    }
   ],
   "source": [
    "colour1= \"blue\"\n",
    "colour2= \"red\"\n",
    "\n",
    "if colour1 == \"blue\":\n",
    "    if colour2 == \"yellow\":\n",
    "        print(\"green\")\n",
    "    elif colour2 == \"red\":\n",
    "        print(\"violet\")\n",
    "elif colour1 == \"red\":\n",
    "    if colour2 == \"yellow\":\n",
    "        print(\"orange\")\n",
    "    \n",
    "    elif colour2 == \"blue\":\n",
    "        print(\"violet\")\n",
    "# 좋은 프로그래밍에선 반복을 안해야 한다 지금 이 코드에서는 바이올렛이 반복됨"
   ]
  },
  {
   "cell_type": "code",
   "execution_count": null,
   "id": "57b49eb8-5eb5-4d0a-aca8-7bb6e18d33d4",
   "metadata": {},
   "outputs": [],
   "source": [
    "# compound if\n",
    "colour1= \"red\"\n",
    "colour2= \"blue\"\n",
    "\n",
    "if colour1 == \"blue\" and colour2 == \"yellow\":\n",
    "    print(\"green\")\n",
    "elif colour1 == \"red\" and colour2 == \"yellow\":\n",
    "    print(\"orange\")\n",
    "elif  colour1 == \"blue\" and colour2 == \"red\":\n",
    "    print(\"violet\")"
   ]
  },
  {
   "cell_type": "code",
   "execution_count": null,
   "id": "4eb3b34d-93a0-4e7d-8a76-8ea1a8503d31",
   "metadata": {},
   "outputs": [],
   "source": [
    "# swqp colours if needed\n",
    "if colour2 == \"blue\" or colour1 == \"yellow\":  # 순서를 강제로 바꿔서 blue는 항상 앞, yellow는 항상 뒤로 가게 정리- 색깔 순설르 맞추기위해\n",
    "    temp = colour1\n",
    "    colour1 = colour2\n",
    "    colour = temp"
   ]
  }
 ],
 "metadata": {
  "kernelspec": {
   "display_name": "Python 3 (ipykernel)",
   "language": "python",
   "name": "python3"
  },
  "language_info": {
   "codemirror_mode": {
    "name": "ipython",
    "version": 3
   },
   "file_extension": ".py",
   "mimetype": "text/x-python",
   "name": "python",
   "nbconvert_exporter": "python",
   "pygments_lexer": "ipython3",
   "version": "3.13.7"
  }
 },
 "nbformat": 4,
 "nbformat_minor": 5
}
