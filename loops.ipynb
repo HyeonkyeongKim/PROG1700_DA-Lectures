{
 "cells": [
  {
   "cell_type": "code",
   "execution_count": 1,
   "id": "bdaf620f-1238-4a3a-91d8-2b9534ac402b",
   "metadata": {},
   "outputs": [
    {
     "name": "stdout",
     "output_type": "stream",
     "text": [
      "looping...\n"
     ]
    }
   ],
   "source": [
    "# basic while loop\n",
    "num = 10\n",
    "while num == 10:\n",
    "    print(\"looping...\")\n",
    "    num = num + 1 #need to modify num to keep from being on infinite loop"
   ]
  },
  {
   "cell_type": "code",
   "execution_count": 2,
   "id": "72ebcb46-2bc2-4ffa-81e4-6f62efeac7f6",
   "metadata": {},
   "outputs": [],
   "source": [
    "# an infinite loop (\" don't do this!)\n",
    "# while True:\n",
    "#    print(\"looping...\") example looping.... 루프가 계속 반복되고 restart 커넬해야 한다."
   ]
  },
  {
   "cell_type": "code",
   "execution_count": 3,
   "id": "5414c5e1-dd6e-4650-b607-3c55ae1e312b",
   "metadata": {},
   "outputs": [
    {
     "name": "stdout",
     "output_type": "stream",
     "text": [
      "looping.... 10\n",
      "looping.... 9\n",
      "looping.... 8\n",
      "looping.... 7\n",
      "looping.... 6\n",
      "looping.... 5\n",
      "looping.... 4\n",
      "looping.... 3\n",
      "looping.... 2\n",
      "looping.... 1\n"
     ]
    }
   ],
   "source": [
    "# infinite loops can be tricky\n",
    "num = 10\n",
    "while num > 0: # what if this was a less than?\n",
    "    print(f\"looping.... {num}\")\n",
    "    num = num -1  # what if this was a plus sign?"
   ]
  },
  {
   "cell_type": "code",
   "execution_count": 2,
   "id": "ccf5ef59-5471-4086-ab15-c372f410ec04",
   "metadata": {},
   "outputs": [
    {
     "name": "stdout",
     "output_type": "stream",
     "text": [
      "looping...0\n",
      "looping...1\n",
      "looping...2\n",
      "looping...3\n"
     ]
    }
   ],
   "source": [
    "# break statement\n",
    "i = 0 \n",
    "while i < 10:\n",
    "    # perform some actions\n",
    "    print(f\"looping...{i}\")\n",
    "    \n",
    "    if i == 3:\n",
    "        break   #will exit the loop when i is 3\n",
    "\n",
    "    i = i + 1"
   ]
  },
  {
   "cell_type": "code",
   "execution_count": 6,
   "id": "56ae7df7-f0c2-4a8f-bedb-7c07a53c517f",
   "metadata": {},
   "outputs": [
    {
     "name": "stdin",
     "output_type": "stream",
     "text": [
      "Enter password:  hello\n",
      "Enter password:  goodbye\n",
      "Enter password:  penguin\n"
     ]
    },
    {
     "name": "stdout",
     "output_type": "stream",
     "text": [
      "Password check failed.\n"
     ]
    }
   ],
   "source": [
    "# do .. while\n",
    "count = 0\n",
    "while True:\n",
    "    # get password from user\n",
    "    password = input(\"Enter password: \")\n",
    "\n",
    "    # check password\n",
    "    if password == \"password\":\n",
    "        print(\"You're IN!\")\n",
    "        break\n",
    "\n",
    "    if count >= 2:\n",
    "        print(\"Password check failed.\")\n",
    "        break\n",
    "\n",
    "    count = count + 1"
   ]
  },
  {
   "cell_type": "code",
   "execution_count": 7,
   "id": "4fe1c678-c7f1-42ae-9d38-6352cd8e8e3c",
   "metadata": {},
   "outputs": [
    {
     "name": "stdin",
     "output_type": "stream",
     "text": [
      "Enter password:  password\n"
     ]
    },
    {
     "name": "stdout",
     "output_type": "stream",
     "text": [
      "You're IN!\n"
     ]
    }
   ],
   "source": [
    "# do .. while\n",
    "count = 0\n",
    "while True:\n",
    "    # get password from user\n",
    "    password = input(\"Enter password: \")\n",
    "\n",
    "    # check password\n",
    "    if password == \"password\":\n",
    "        print(\"You're IN!\")\n",
    "        break\n",
    "\n",
    "    if count >= 2:\n",
    "        print(\"Password check failed.\")\n",
    "        break\n",
    "\n",
    "    count = count + 1"
   ]
  },
  {
   "cell_type": "code",
   "execution_count": 9,
   "id": "f1202c28-5aad-482a-904a-0551781ab9fb",
   "metadata": {},
   "outputs": [
    {
     "name": "stdin",
     "output_type": "stream",
     "text": [
      "Enter a number (-1 to exit):  10\n",
      "Enter a number (-1 to exit):  20\n",
      "Enter a number (-1 to exit):  30\n",
      "Enter a number (-1 to exit):  -1\n"
     ]
    },
    {
     "name": "stdout",
     "output_type": "stream",
     "text": [
      "Average: 20.0\n"
     ]
    }
   ],
   "source": [
    "# an example of a sentinel value\n",
    "\n",
    "# calculate the average of some numbers\n",
    "count = 0\n",
    "sum = 0\n",
    "\n",
    "\n",
    "while True:\n",
    "\n",
    "    number = input(\"Enter a number (-1 to exit): \") #  -1 is the sentinel value\n",
    "\n",
    "    if number == \"-1\":\n",
    "        break\n",
    "\n",
    "    sum += int(number)\n",
    "    count += 1\n",
    "\n",
    "print(f\"Average: {sum / count}\")\n",
    "    "
   ]
  },
  {
   "cell_type": "code",
   "execution_count": 11,
   "id": "5e2aadae-b735-45f9-836e-cf6d97a401a7",
   "metadata": {},
   "outputs": [
    {
     "name": "stdout",
     "output_type": "stream",
     "text": [
      "Month 1: balance = 100.0, interest = 0.0\n",
      "Month 2: balance = 202.0, interest = 2.0\n",
      "Month 3: balance = 306.03999999999996, interest = 4.04\n",
      "Month 4: balance = 412.16079999999994, interest = 6.120799999999999\n",
      "Month 5: balance = 520.404016, interest = 8.243215999999999\n",
      "Month 6: balance = 630.8120963199999, interest = 10.40808032\n",
      "Month 7: balance = 743.4283382463999, interest = 12.616241926399999\n",
      "Month 8: balance = 858.2969050113279, interest = 14.868566764927998\n",
      "Month 9: balance = 975.4628431115544, interest = 17.16593810022656\n",
      "Month 10: balance = 1094.9720999737856, interest = 19.50925686223109\n",
      "Month 11: balance = 1216.8715419732614, interest = 21.899441999475712\n"
     ]
    }
   ],
   "source": [
    "# Assume  you deposit  $100 a month in the bank\n",
    "# and the bank gives you 2% interest compounded monthly,\n",
    "# how much would you have at the end of 12 months?\n",
    "\n",
    "balance = 0\n",
    "\n",
    "month = 1 # start in January\n",
    "\n",
    "while month < 12:\n",
    "    interest = balance * 0.02\n",
    "    balance += interest\n",
    "    # $100 deposit\n",
    "    balance += 100\n",
    "    \n",
    "    print(f\"Month {month}: balance = {balance}, interest = {interest}\")\n",
    "    month += 1"
   ]
  },
  {
   "cell_type": "code",
   "execution_count": 12,
   "id": "00b99b72-0dcf-45c4-8311-756d7e318413",
   "metadata": {},
   "outputs": [
    {
     "name": "stdout",
     "output_type": "stream",
     "text": [
      "Month 1: balance = $100.00, interest = $0.00\n",
      "Month 2: balance = $202.00, interest = $2.00\n",
      "Month 3: balance = $306.04, interest = $4.04\n",
      "Month 4: balance = $412.16, interest = $6.12\n",
      "Month 5: balance = $520.40, interest = $8.24\n",
      "Month 6: balance = $630.81, interest = $10.41\n",
      "Month 7: balance = $743.43, interest = $12.62\n",
      "Month 8: balance = $858.30, interest = $14.87\n",
      "Month 9: balance = $975.46, interest = $17.17\n",
      "Month 10: balance = $1094.97, interest = $19.51\n",
      "Month 11: balance = $1216.87, interest = $21.90\n",
      "Month 12: balance = $1341.21, interest = $24.34\n",
      "Month 13: balance = $1468.03, interest = $26.82\n"
     ]
    }
   ],
   "source": [
    "# Assume  you deposit  $100 a month in the bank\n",
    "# and the bank gives you 2% interest compounded monthly,\n",
    "# how much would you have at the end of 12 months?\n",
    "\n",
    "balance = 0\n",
    "\n",
    "month = 1 # start in January\n",
    "\n",
    "while month <= 13:\n",
    "    interest = balance * 0.02\n",
    "    balance += interest\n",
    "    # $100 deposit\n",
    "    balance += 100\n",
    "    \n",
    "    print(f\"Month {month}: balance = ${balance:.2f}, interest = ${interest:.2f}\")\n",
    "    month += 1"
   ]
  },
  {
   "cell_type": "code",
   "execution_count": 14,
   "id": "25f27ecc-c9f9-4dc1-83c8-548b5d031e8a",
   "metadata": {},
   "outputs": [
    {
     "name": "stdout",
     "output_type": "stream",
     "text": [
      "End of year balance: $1341.21\n"
     ]
    }
   ],
   "source": [
    "# Assume  you deposit  $100 a month in the bank\n",
    "# and the bank gives you 2% interest compounded monthly,\n",
    "# how much would you have at the end of 12 months?\n",
    "\n",
    "balance = 0\n",
    "\n",
    "month = 1 # start in January\n",
    "\n",
    "while month <= 12:\n",
    "    interest = balance * 0.02\n",
    "    balance += interest\n",
    "    # $100 deposit\n",
    "    balance += 100\n",
    "    \n",
    "    # print(f\"Month {month}: balance = ${balance:.2f}, interest = ${interest:.2f}\")\n",
    "    month += 1\n",
    "\n",
    "print(f\"End of year balance: ${balance:.2f}\")"
   ]
  },
  {
   "cell_type": "code",
   "execution_count": 15,
   "id": "7b360564-c266-4c58-b36b-ff5bb6aa6fa7",
   "metadata": {},
   "outputs": [
    {
     "name": "stdout",
     "output_type": "stream",
     "text": [
      "month = 0\n",
      "month = 1\n",
      "month = 2\n",
      "month = 3\n",
      "month = 4\n",
      "month = 5\n",
      "month = 6\n",
      "month = 7\n",
      "month = 8\n",
      "month = 9\n",
      "month = 10\n",
      "month = 11\n"
     ]
    }
   ],
   "source": [
    "# for loop\n",
    "for month in range (12):\n",
    "    print(f\"month = {month}\")"
   ]
  },
  {
   "cell_type": "code",
   "execution_count": 17,
   "id": "1c5c14e8-d83e-4df0-9939-d4cef17d082d",
   "metadata": {},
   "outputs": [
    {
     "name": "stdout",
     "output_type": "stream",
     "text": [
      "month = 1\n",
      "month = 2\n",
      "month = 3\n",
      "month = 4\n",
      "month = 5\n",
      "month = 6\n",
      "month = 7\n",
      "month = 8\n",
      "month = 9\n",
      "month = 10\n",
      "month = 11\n",
      "month = 12\n"
     ]
    }
   ],
   "source": [
    "# for loop\n",
    "for month in range (12):\n",
    "    print(f\"month = {month+ 1}\")"
   ]
  },
  {
   "cell_type": "code",
   "execution_count": 18,
   "id": "1531d36b-c33a-4465-8e91-411bec98ee6d",
   "metadata": {},
   "outputs": [
    {
     "data": {
      "text/plain": [
       "range(0, 12)"
      ]
     },
     "execution_count": 18,
     "metadata": {},
     "output_type": "execute_result"
    }
   ],
   "source": [
    "# ranges\n",
    "range(12)"
   ]
  },
  {
   "cell_type": "code",
   "execution_count": 20,
   "id": "68f1d09f-6102-4464-8263-9041c7fe3226",
   "metadata": {},
   "outputs": [
    {
     "name": "stdout",
     "output_type": "stream",
     "text": [
      "month = 1\n",
      "month = 2\n",
      "month = 3\n",
      "month = 4\n",
      "month = 5\n",
      "month = 6\n",
      "month = 7\n",
      "month = 8\n",
      "month = 9\n",
      "month = 10\n",
      "month = 11\n",
      "month = 12\n"
     ]
    }
   ],
   "source": [
    "# for loop\n",
    "for month in range (1, 13):\n",
    "    print(f\"month = {month}\")"
   ]
  },
  {
   "cell_type": "code",
   "execution_count": 21,
   "id": "859bdf31-09d7-40da-84fc-936ee864d79d",
   "metadata": {},
   "outputs": [
    {
     "name": "stdout",
     "output_type": "stream",
     "text": [
      "2\n",
      "5\n",
      "8\n",
      "11\n",
      "14\n",
      "17\n",
      "20\n",
      "23\n",
      "26\n",
      "29\n",
      "32\n"
     ]
    }
   ],
   "source": [
    "for i in range (2, 35, 3):\n",
    "    print(i)"
   ]
  },
  {
   "cell_type": "code",
   "execution_count": 22,
   "id": "27569c72-68d3-4540-bf4b-f345ce6aef77",
   "metadata": {},
   "outputs": [
    {
     "name": "stdout",
     "output_type": "stream",
     "text": [
      "20\n",
      "18\n",
      "16\n",
      "14\n",
      "12\n"
     ]
    }
   ],
   "source": [
    "for i in range(20, 10, -2):\n",
    "    print(i)"
   ]
  },
  {
   "cell_type": "code",
   "execution_count": 23,
   "id": "a8b2f7dd-4496-4d3b-840c-f3493b1b30f6",
   "metadata": {},
   "outputs": [
    {
     "name": "stdout",
     "output_type": "stream",
     "text": [
      "i=0, j=0\n",
      "i=0, j=1\n",
      "i=0, j=2\n",
      "i=0, j=3\n",
      "i=0, j=4\n",
      "i=1, j=0\n",
      "i=1, j=1\n",
      "i=1, j=2\n",
      "i=1, j=3\n",
      "i=1, j=4\n",
      "i=2, j=0\n",
      "i=2, j=1\n",
      "i=2, j=2\n",
      "i=2, j=3\n",
      "i=2, j=4\n",
      "i=3, j=0\n",
      "i=3, j=1\n",
      "i=3, j=2\n",
      "i=3, j=3\n",
      "i=3, j=4\n",
      "i=4, j=0\n",
      "i=4, j=1\n",
      "i=4, j=2\n",
      "i=4, j=3\n",
      "i=4, j=4\n",
      "i=5, j=0\n",
      "i=5, j=1\n",
      "i=5, j=2\n",
      "i=5, j=3\n",
      "i=5, j=4\n",
      "i=6, j=0\n",
      "i=6, j=1\n",
      "i=6, j=2\n",
      "i=6, j=3\n",
      "i=6, j=4\n",
      "i=7, j=0\n",
      "i=7, j=1\n",
      "i=7, j=2\n",
      "i=7, j=3\n",
      "i=7, j=4\n",
      "i=8, j=0\n",
      "i=8, j=1\n",
      "i=8, j=2\n",
      "i=8, j=3\n",
      "i=8, j=4\n",
      "i=9, j=0\n",
      "i=9, j=1\n",
      "i=9, j=2\n",
      "i=9, j=3\n",
      "i=9, j=4\n"
     ]
    }
   ],
   "source": [
    "# nested loops\n",
    "i = 0\n",
    "while i < 10:\n",
    "    j = 0\n",
    "    while j < 5:\n",
    "        print(f\"i={i}, j={j}\")\n",
    "        j = j + 1\n",
    "    i = i + 1"
   ]
  },
  {
   "cell_type": "code",
   "execution_count": 29,
   "id": "79d1ae82-1be3-4fdd-8b14-3bcf160bbd60",
   "metadata": {},
   "outputs": [
    {
     "name": "stdout",
     "output_type": "stream",
     "text": [
      "o\n",
      "o\n",
      "o\n",
      "o\n",
      "o\n",
      "o\n"
     ]
    }
   ],
   "source": [
    "# draw a triangle\n",
    "\n",
    "# 0\n",
    "# 00\n",
    "# 000\n",
    "# 0000\n",
    "# 00000\n",
    "# 000000\n",
    "\n",
    "for line in range(1,7):\n",
    "    print(\"o\")"
   ]
  },
  {
   "cell_type": "code",
   "execution_count": 28,
   "id": "d1c581cf-fd3b-4e40-89ce-035cd9809356",
   "metadata": {},
   "outputs": [
    {
     "name": "stdout",
     "output_type": "stream",
     "text": [
      "o\n",
      "oo\n",
      "ooo\n",
      "oooo\n",
      "ooooo\n",
      "oooooo\n"
     ]
    }
   ],
   "source": [
    "# draw a triangle\n",
    "\n",
    "# 0\n",
    "# 00\n",
    "# 000\n",
    "# 0000\n",
    "# 00000\n",
    "# 000000\n",
    "\n",
    "for line in range(1,7):\n",
    "    for ohs in range(line):\n",
    "        print(\"o\", end=\"\")\n",
    "    print()"
   ]
  },
  {
   "cell_type": "code",
   "execution_count": 32,
   "id": "3b7df181-dcf9-4e43-918e-e4001d680a5a",
   "metadata": {},
   "outputs": [
    {
     "name": "stdout",
     "output_type": "stream",
     "text": [
      "     o\n",
      "    oo\n",
      "   ooo\n",
      "  oooo\n",
      " ooooo\n",
      "oooooo\n"
     ]
    }
   ],
   "source": [
    "# draw a triangle\n",
    "\n",
    "#      0\n",
    "#     00\n",
    "#    000\n",
    "#   0000\n",
    "#  00000\n",
    "# 000000\n",
    "\n",
    "for line in range(1,7):\n",
    "    for spaces in range(6-line):\n",
    "        print(\" \", end=\"\")\n",
    "    for ohs in range(line):\n",
    "        print(\"o\", end=\"\")\n",
    "    print()"
   ]
  },
  {
   "cell_type": "code",
   "execution_count": 3,
   "id": "de5b3928-186b-49c0-8d19-f7dbc4249e73",
   "metadata": {},
   "outputs": [
    {
     "name": "stdout",
     "output_type": "stream",
     "text": [
      "     o\n",
      "    oo\n",
      "   ooo\n",
      "  oooo\n",
      " ooooo\n",
      "oooooo\n"
     ]
    }
   ],
   "source": [
    "for line in range(1,7):\n",
    "    print(\" \" * (6-line), end=\"\")\n",
    "\n",
    "    print(\"o\" * line, end=\"\")\n",
    "\n",
    "    print()\n",
    "  \n"
   ]
  },
  {
   "cell_type": "code",
   "execution_count": 4,
   "id": "53e5556f-3eca-4ea0-bb08-fcf4fab35dda",
   "metadata": {},
   "outputs": [
    {
     "name": "stdout",
     "output_type": "stream",
     "text": [
      "     o\n",
      "    oo\n",
      "   ooo\n",
      "  oooo\n",
      " ooooo\n",
      "oooooo\n"
     ]
    }
   ],
   "source": [
    "for line in range(1,7):\n",
    "    print(\" \" * (6-line), end=\"\")\n",
    "\n",
    "    print(\"o\" * line)\n",
    "\n",
    "\n",
    "  "
   ]
  },
  {
   "cell_type": "code",
   "execution_count": 5,
   "id": "f99a0548-2fab-4cb3-a705-facee319596d",
   "metadata": {},
   "outputs": [
    {
     "name": "stdout",
     "output_type": "stream",
     "text": [
      "     o\n",
      "    oo\n",
      "   ooo\n",
      "  oooo\n",
      " ooooo\n",
      "oooooo\n"
     ]
    }
   ],
   "source": [
    "for line in range(1,7):\n",
    "    print(\" \" * (6-line) + \"o\" * line)\n",
    "\n",
    " "
   ]
  },
  {
   "cell_type": "code",
   "execution_count": null,
   "id": "2465c729-6057-4977-8eae-4cbb284d0428",
   "metadata": {},
   "outputs": [],
   "source": []
  }
 ],
 "metadata": {
  "kernelspec": {
   "display_name": "Python 3 (ipykernel)",
   "language": "python",
   "name": "python3"
  },
  "language_info": {
   "codemirror_mode": {
    "name": "ipython",
    "version": 3
   },
   "file_extension": ".py",
   "mimetype": "text/x-python",
   "name": "python",
   "nbconvert_exporter": "python",
   "pygments_lexer": "ipython3",
   "version": "3.13.7"
  }
 },
 "nbformat": 4,
 "nbformat_minor": 5
}
