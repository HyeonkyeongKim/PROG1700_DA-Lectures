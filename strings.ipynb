{
 "cells": [
  {
   "cell_type": "code",
   "execution_count": 3,
   "id": "92e4b2d0",
   "metadata": {},
   "outputs": [
    {
     "data": {
      "text/plain": [
       "'apple'"
      ]
     },
     "execution_count": 3,
     "metadata": {},
     "output_type": "execute_result"
    }
   ],
   "source": [
    "str = \"apple\"\n",
    "\n",
    "str"
   ]
  },
  {
   "cell_type": "code",
   "execution_count": null,
   "id": "bb6978af",
   "metadata": {},
   "outputs": [
    {
     "data": {
      "text/plain": [
       "'a'"
      ]
     },
     "execution_count": 4,
     "metadata": {},
     "output_type": "execute_result"
    }
   ],
   "source": [
    "str = \"apple\"\n",
    "# can access like an array\n",
    "str [0]   # 인덱싱- 자리로 부터 문자를 가져옴\n"
   ]
  },
  {
   "cell_type": "code",
   "execution_count": null,
   "id": "6ff8c78d",
   "metadata": {},
   "outputs": [
    {
     "data": {
      "text/plain": [
       "'ap'"
      ]
     },
     "execution_count": 5,
     "metadata": {},
     "output_type": "execute_result"
    }
   ],
   "source": [
    "str = \"apple\"\n",
    "# can access like an array\n",
    "\n",
    "str[0:2]  # 슬라이싱, 시작인덱스는 포함하고 끝인덱스틑 포함하지 않음\n"
   ]
  },
  {
   "cell_type": "code",
   "execution_count": null,
   "id": "d3fda452",
   "metadata": {},
   "outputs": [
    {
     "data": {
      "text/plain": [
       "'e'"
      ]
     },
     "execution_count": 8,
     "metadata": {},
     "output_type": "execute_result"
    }
   ],
   "source": [
    "str = \"apple\"\n",
    "\n",
    "str[-1]   # 음수인덱싱, 뒤에서는 0이 아닌 -1부터 시작한다."
   ]
  },
  {
   "cell_type": "code",
   "execution_count": null,
   "id": "abc60ce3",
   "metadata": {},
   "outputs": [
    {
     "data": {
      "text/plain": [
       "'el'"
      ]
     },
     "execution_count": 6,
     "metadata": {},
     "output_type": "execute_result"
    }
   ],
   "source": [
    "str = \"apple\"\n",
    "# can access like an array\n",
    "\n",
    "str[-1:-3:-1]   # 시작인댁스:-1, 끝인덱스:-3, 방향: -1: 뒤에서부터 읽는다\n"
   ]
  },
  {
   "cell_type": "code",
   "execution_count": null,
   "id": "290459aa",
   "metadata": {},
   "outputs": [
    {
     "data": {
      "text/plain": [
       "'elppa'"
      ]
     },
     "execution_count": 7,
     "metadata": {},
     "output_type": "execute_result"
    }
   ],
   "source": [
    "str = \"apple\"\n",
    "# can access like an array\n",
    "\n",
    "str[::-1]   # [시작:끝:간격]-문자열 전체를 거꾸로 한 글자씩 읽어라"
   ]
  },
  {
   "cell_type": "code",
   "execution_count": 9,
   "id": "c6c0ef66",
   "metadata": {},
   "outputs": [
    {
     "data": {
      "text/plain": [
       "6"
      ]
     },
     "execution_count": 9,
     "metadata": {},
     "output_type": "execute_result"
    }
   ],
   "source": [
    "str = \"banana\"\n",
    "\n",
    "# can iterate through like an array\n",
    "len(str)"
   ]
  },
  {
   "cell_type": "code",
   "execution_count": 10,
   "id": "121b9974",
   "metadata": {},
   "outputs": [
    {
     "name": "stdout",
     "output_type": "stream",
     "text": [
      "b\n",
      "a\n",
      "n\n",
      "a\n",
      "n\n",
      "a\n"
     ]
    }
   ],
   "source": [
    "str = \"banana\"\n",
    "\n",
    "# can iterate through like an array\n",
    "for i in range(len(str)):\n",
    "    print(str[i])"
   ]
  },
  {
   "cell_type": "code",
   "execution_count": null,
   "id": "7b62ee6a",
   "metadata": {},
   "outputs": [
    {
     "name": "stdout",
     "output_type": "stream",
     "text": [
      "b a n a n a "
     ]
    }
   ],
   "source": [
    "str = \"banana\"\n",
    "\n",
    "# can iterate through like an array\n",
    "for i in range(len(str)):   #len(str)은 6, range(6)= [0,1,2,3,4,5], str[i]가 0부터 5까지 반복, 원래는 세로로 하나씩나오는데 end=\"\"때문에 줄을 붙여줌(줄바꿈없이 공백한칸씩 띄워서)\n",
    "    print(str[i], end = \" \")"
   ]
  },
  {
   "cell_type": "code",
   "execution_count": null,
   "id": "b6ff0151",
   "metadata": {},
   "outputs": [
    {
     "name": "stdout",
     "output_type": "stream",
     "text": [
      "b a n a n a b a n a n a "
     ]
    }
   ],
   "source": [
    "str = \"banana\"\n",
    "\n",
    "# can iterate through like an array\n",
    "for i in range(len(str)):\n",
    "    print(str[i], end = \" \")\n",
    "\n",
    "for ch in str:     # 문자열은 iterable(반복가능한 객체)라서 한글자씩 자동으로 반복됨, 위에 코드한번 실행되고 지금 이 코드도 실행된 결과\n",
    "    print(ch, end=\" \")"
   ]
  },
  {
   "cell_type": "code",
   "execution_count": null,
   "id": "d5d08881",
   "metadata": {},
   "outputs": [
    {
     "name": "stdout",
     "output_type": "stream",
     "text": [
      "b a n a n a \n",
      "b a n a n a "
     ]
    }
   ],
   "source": [
    "str = \"banana\"\n",
    "\n",
    "# can iterate through like an array\n",
    "for i in range(len(str)):\n",
    "    print(str[i], end = \" \")\n",
    "\n",
    "print()         # 줄바꿈을 위해서 한번 실행하고 \n",
    "\n",
    "for ch in str:     # 여기서 새로운 변수이름 ch는 위에 str 안에 문자를 하나씩 꺼내서 다시 ch에 넣고 반복한다의미\n",
    "    print(ch, end=\" \")\n"
   ]
  },
  {
   "cell_type": "code",
   "execution_count": null,
   "id": "f14808e6",
   "metadata": {},
   "outputs": [
    {
     "name": "stdout",
     "output_type": "stream",
     "text": [
      "b a n a n a \n",
      "b (<class 'str'>)\n",
      "a (<class 'str'>)\n",
      "n (<class 'str'>)\n",
      "a (<class 'str'>)\n",
      "n (<class 'str'>)\n",
      "a (<class 'str'>)\n"
     ]
    }
   ],
   "source": [
    "str = \"banana\"\n",
    "\n",
    "# can iterate through like an array\n",
    "for i in range(len(str)):\n",
    "    print(str[i], end = \" \")\n",
    "print()\n",
    "# works like a list\n",
    "for ch in str:\n",
    "    print(f\"{ch} ({type(ch)})\")   # 위에서 코드를 가져 와서 type은 어떤 형식인지 말해주는 문법"
   ]
  },
  {
   "cell_type": "code",
   "execution_count": null,
   "id": "87cb9eba",
   "metadata": {},
   "outputs": [
    {
     "name": "stdout",
     "output_type": "stream",
     "text": [
      "b a n a n a \n",
      "b (<class 'str'>)\n",
      "a (<class 'str'>)\n",
      "n (<class 'str'>)\n",
      "a (<class 'str'>)\n",
      "n (<class 'str'>)\n",
      "a (<class 'str'>)\n",
      "---\n",
      "b (<class 'str'>)\n",
      "a (<class 'str'>)\n",
      "n (<class 'str'>)\n",
      "a (<class 'str'>)\n",
      "n (<class 'str'>)\n",
      "a (<class 'str'>)\n"
     ]
    }
   ],
   "source": [
    "str = \"banana\"\n",
    "\n",
    "# can iterate through like an array\n",
    "for i in range(len(str)):\n",
    "    print(str[i], end = \" \")\n",
    "print()\n",
    "# works like a list\n",
    "for ch in str:\n",
    "    print(f\"{ch} ({type(ch)})\")\n",
    "print(\"-\" * 3)\n",
    "# can also be a list\n",
    "for ch in list(str):     # 문자열을 리스트로 바꿔도 결국 내부의 각 원소는 여전히 문자열(str)타입이다.\n",
    "    print(f\"{ch} ({type(ch)})\")   # 파이선의 문자열은 리스트처럼 인덱스로 접근할 수도 있고, for 문으로 반복(iterate) 할 수도 있다,리스트로 변환해도 내부의 각 문자는 여전히 str타입"
   ]
  },
  {
   "cell_type": "code",
   "execution_count": null,
   "id": "161307ba",
   "metadata": {},
   "outputs": [
    {
     "data": {
      "text/plain": [
       "'applebananaorange'"
      ]
     },
     "execution_count": 15,
     "metadata": {},
     "output_type": "execute_result"
    }
   ],
   "source": [
    "fruit = [\"apple\", \"banana\", \"orange\"]\n",
    "\n",
    "# convert a list to a string\n",
    "''. join(fruit)   # join은 리스트안의 모든 문자열 요소를 하나의 문자열로 합치되 그 사이사이에 separator을 넣어주는 함수"
   ]
  },
  {
   "cell_type": "code",
   "execution_count": 16,
   "id": "f238fd4a",
   "metadata": {},
   "outputs": [
    {
     "data": {
      "text/plain": [
       "'apple-banana-orange'"
      ]
     },
     "execution_count": 16,
     "metadata": {},
     "output_type": "execute_result"
    }
   ],
   "source": [
    "fruit = [\"apple\", \"banana\", \"orange\"]\n",
    "\n",
    "# convert a list to a string\n",
    "'-'. join(fruit)"
   ]
  },
  {
   "cell_type": "code",
   "execution_count": 17,
   "id": "d46b1bd7",
   "metadata": {},
   "outputs": [
    {
     "data": {
      "text/plain": [
       "'apple**banana**orange'"
      ]
     },
     "execution_count": 17,
     "metadata": {},
     "output_type": "execute_result"
    }
   ],
   "source": [
    "fruit = [\"apple\", \"banana\", \"orange\"]\n",
    "\n",
    "# convert a list to a string\n",
    "'**'. join(fruit)"
   ]
  },
  {
   "cell_type": "code",
   "execution_count": null,
   "id": "5eebca0a",
   "metadata": {},
   "outputs": [
    {
     "data": {
      "text/plain": [
       "'apple\\tbanana\\torange'"
      ]
     },
     "execution_count": 18,
     "metadata": {},
     "output_type": "execute_result"
    }
   ],
   "source": [
    "fruit = [\"apple\", \"banana\", \"orange\"]\n",
    "\n",
    "# convert a list to a string\n",
    "# '**'. join(fruit) # ' ', '-' can be joined by any string\n",
    "# great for exporting data in different formats\n",
    "\"\\t\".join(fruit)    # 표현식 내부값표시"
   ]
  },
  {
   "cell_type": "code",
   "execution_count": null,
   "id": "ad241c7e",
   "metadata": {},
   "outputs": [
    {
     "name": "stdout",
     "output_type": "stream",
     "text": [
      "apple\tbanana\torange\n"
     ]
    }
   ],
   "source": [
    "fruit = [\"apple\", \"banana\", \"orange\"]\n",
    "\n",
    "# convert a list to a string\n",
    "# '**'. join(fruit) # ' ', '-' can be joined by any string\n",
    "# great for exporting data in different formats\n",
    "print(\"\\t\".join(fruit))  # 위의 식은 같지만 보여지는 방식이 차이가 난다"
   ]
  },
  {
   "cell_type": "code",
   "execution_count": null,
   "id": "63ec5a48",
   "metadata": {},
   "outputs": [
    {
     "data": {
      "text/plain": [
       "['123', '456', '789']"
      ]
     },
     "execution_count": 20,
     "metadata": {},
     "output_type": "execute_result"
    }
   ],
   "source": [
    "str = \"123,456,789\"\n",
    "\n",
    "# convert the string to a list (importing)\n",
    "str.split(',')    # split()은 특정 seperator기준으로 잘라서 리스트로 바꾸눈 함수"
   ]
  },
  {
   "cell_type": "code",
   "execution_count": null,
   "id": "18e29f31",
   "metadata": {},
   "outputs": [
    {
     "data": {
      "text/plain": [
       "['123', '456', '789', ',,,,,,,,2346zxvcb,,awssfdfg,,,adf']"
      ]
     },
     "execution_count": 21,
     "metadata": {},
     "output_type": "execute_result"
    }
   ],
   "source": [
    "str = \"123,456,789,,,,,,,,,2346zxvcb,,awssfdfg,,,adf\"\n",
    "\n",
    "# convert the string to a list (importing)\n",
    "str.split(',',3)   # 몇 번까지만 자를지 정한다 ,기준으로 최대 3번까지만 나눔: 3번만 자르고 나머지는 그대로 남음"
   ]
  },
  {
   "cell_type": "code",
   "execution_count": 23,
   "id": "f68c20c5",
   "metadata": {},
   "outputs": [
    {
     "data": {
      "text/plain": [
       "'Sun'"
      ]
     },
     "execution_count": 23,
     "metadata": {},
     "output_type": "execute_result"
    }
   ],
   "source": [
    "data = \"SunMonTueWedThuFriSat\"\n",
    "\n",
    "#\"the algorithm\" is that they are 3 letters\n",
    "data [0:3]"
   ]
  },
  {
   "cell_type": "code",
   "execution_count": null,
   "id": "12ba86ac",
   "metadata": {},
   "outputs": [
    {
     "name": "stdout",
     "output_type": "stream",
     "text": [
      "Sun\n",
      "Mon\n",
      "Tue\n",
      "Wed\n",
      "Thu\n",
      "Fri\n",
      "Sat\n"
     ]
    }
   ],
   "source": [
    "data = \"SunMonTueWedThuFriSat\"\n",
    "\n",
    "#\"the algorithm\" is that they are 3 letters\n",
    "\n",
    "for i in range(0,len(data),3):  # len(data)문자열길이21, range(0,len(data),3)= range(0,21,3), 0부터 21전까지 3씩 증가하면서 반복\n",
    "    print(data[i:i+3])   # 문자열을 3글자 단위로 슬라이싱 문법"
   ]
  },
  {
   "cell_type": "code",
   "execution_count": 26,
   "id": "353775cf",
   "metadata": {},
   "outputs": [
    {
     "data": {
      "text/plain": [
       "['Sun', 'Mon', 'Tue', 'Wed', 'Thu', 'Fri', 'Sat']"
      ]
     },
     "execution_count": 26,
     "metadata": {},
     "output_type": "execute_result"
    }
   ],
   "source": [
    "data = \"SunMonTueWedThuFriSat\"\n",
    "\n",
    "#\"the algorithm\" is that they are 3 letters\n",
    "days = []  # 빈리스트 생성\n",
    "for i in range(0,len(data),3):  # 3칸식증가하면서 반복\n",
    "    days.append(data[i:i+3]) # Sun, Mon.... append:잘라낸 문자열을 리스트에 추가\n",
    "days"
   ]
  },
  {
   "cell_type": "code",
   "execution_count": 29,
   "id": "a6a1e0e7",
   "metadata": {},
   "outputs": [
    {
     "name": "stdout",
     "output_type": "stream",
     "text": [
      "letter\n"
     ]
    }
   ],
   "source": [
    "# miscellaneous stuff\n",
    "letter = \"a\"\n",
    "\n",
    "if letter >= \"a\" and letter <= \"z\" :\n",
    "    print(\"letter\")"
   ]
  },
  {
   "cell_type": "code",
   "execution_count": null,
   "id": "497264d6",
   "metadata": {},
   "outputs": [
    {
     "name": "stdout",
     "output_type": "stream",
     "text": [
      "letter\n"
     ]
    },
    {
     "data": {
      "text/plain": [
       "True"
      ]
     },
     "execution_count": 30,
     "metadata": {},
     "output_type": "execute_result"
    }
   ],
   "source": [
    "# miscellaneous stuff\n",
    "letter = \"a\"\n",
    "\n",
    "if letter >= \"a\" and letter <= \"z\" :\n",
    "    print(\"letter\")\n",
    "\n",
    "letter.isalpha()   # 문자열이 알파벳인지 확인하는 내장 메서드"
   ]
  },
  {
   "cell_type": "code",
   "execution_count": 31,
   "id": "df037e35",
   "metadata": {},
   "outputs": [
    {
     "name": "stdout",
     "output_type": "stream",
     "text": [
      "letter\n",
      "letter\n"
     ]
    }
   ],
   "source": [
    "# miscellaneous stuff\n",
    "letter = \"a\"\n",
    "\n",
    "if letter >= \"a\" and letter <= \"z\" :\n",
    "    print(\"letter\")\n",
    "\n",
    "if letter.isalpha():\n",
    "    print(\"letter\")"
   ]
  },
  {
   "cell_type": "code",
   "execution_count": null,
   "id": "e8c4aada",
   "metadata": {},
   "outputs": [
    {
     "name": "stdout",
     "output_type": "stream",
     "text": [
      "not a letter\n",
      "letter\n"
     ]
    }
   ],
   "source": [
    "# miscellaneous stuff\n",
    "letter = \"A\"\n",
    "\n",
    "if letter >= \"a\" and letter <= \"z\" or letter >= \"A\" and letter <= \"Z\":\n",
    "    print(\"letter\")\n",
    "else:\n",
    "    print(\"not a letter\")\n",
    "\n",
    "if letter.isalpha():\n",
    "    print(\"letter\")"
   ]
  },
  {
   "cell_type": "code",
   "execution_count": 32,
   "id": "b8e4fec9",
   "metadata": {},
   "outputs": [
    {
     "data": {
      "text/plain": [
       "'hello'"
      ]
     },
     "execution_count": 32,
     "metadata": {},
     "output_type": "execute_result"
    }
   ],
   "source": [
    "word = \"Hello\"\n",
    "\n",
    "word.lower()"
   ]
  },
  {
   "cell_type": "code",
   "execution_count": 30,
   "id": "01307e37",
   "metadata": {},
   "outputs": [
    {
     "data": {
      "text/plain": [
       "'HELLO'"
      ]
     },
     "execution_count": 30,
     "metadata": {},
     "output_type": "execute_result"
    }
   ],
   "source": [
    "word = \"Hello\"\n",
    "\n",
    "word.lower()\n",
    "word.upper()"
   ]
  },
  {
   "cell_type": "code",
   "execution_count": null,
   "id": "4fd5cde2",
   "metadata": {},
   "outputs": [],
   "source": []
  }
 ],
 "metadata": {
  "kernelspec": {
   "display_name": "Python 3 (ipykernel)",
   "language": "python",
   "name": "python3"
  },
  "language_info": {
   "codemirror_mode": {
    "name": "ipython",
    "version": 3
   },
   "file_extension": ".py",
   "mimetype": "text/x-python",
   "name": "python",
   "nbconvert_exporter": "python",
   "pygments_lexer": "ipython3",
   "version": "3.13.7"
  }
 },
 "nbformat": 4,
 "nbformat_minor": 5
}
